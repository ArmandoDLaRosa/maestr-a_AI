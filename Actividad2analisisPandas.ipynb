{
  "cells": [
    {
      "cell_type": "markdown",
      "metadata": {
        "id": "SML-04QQLd9l"
      },
      "source": [
        "**MAESTRÍA EN INTELIGENCIA ARTIFICIAL APLICADA**\n",
        "\n",
        "**Curso: TC4029 - Ciencia y analítica de datos**\n",
        "\n",
        "Tecnológico de Monterrey\n",
        "\n",
        "Prof Grettel Barceló Alonso\n",
        "\n",
        "**Semana 2**\n",
        "Pandas para el análisis de datos en Python\n",
        "\n",
        "---"
      ]
    },
    {
      "cell_type": "markdown",
      "metadata": {
        "id": "6q35__bSBB3G"
      },
      "source": [
        "*   NOMBRE: Armando Cerda De La Rosa\n",
        "*   MATRÍCULA: A01570376   "
      ]
    },
    {
      "cell_type": "markdown",
      "metadata": {
        "id": "AepY3wwtDXkc"
      },
      "source": [
        "---"
      ]
    },
    {
      "cell_type": "markdown",
      "metadata": {
        "id": "BumCtObqBqGr"
      },
      "source": [
        "En esta actividad usarás el archivo de datos `LaqnData.csv`. Cada fila de este conjunto de datos muestra un registro de medición, por hora, de uno de los siguientes cinco contaminantes del aire:\n",
        "\n",
        "*   `NO` (óxido nítrico)\n",
        "*   `NO2` (dióxido de nitrógeno)\n",
        "*   `NOX` (óxidos nitrosos)\n",
        "*   `PM10` (partículas suspendidas con un diámetro aerodinámico igual o menor a 10 micrómetros)\n",
        "*   `PM2.5` (partículas suspendidas con un diámetro aerodinámico igual o menor a 2.5 micrómetros)\n",
        "\n",
        "Los datos se recopilaron en una ubicación de Londres durante todo el año 2017.\n",
        "\n",
        "**NOTA IMPORTANTE:** Asegúrate de responder *explícitamente* todos los cuestionamientos.\n"
      ]
    },
    {
      "cell_type": "markdown",
      "metadata": {
        "id": "mqtTwAL3Mr44"
      },
      "source": [
        "1.\tDescarga el archivo: `LaqnData.csv` y guarda, en un dataframe (`air_df`), todos sus registros.\n",
        "*   Observa la estructura y contenido del dataframe con los atributos y métodos estudiados (`shape`, `columns`, `head()`, `tail()`, `dtypes`)\n",
        "*   Calcula el porcentaje de valores faltantes por columna."
      ]
    },
    {
      "cell_type": "code",
      "execution_count": 1,
      "metadata": {},
      "outputs": [
        {
          "name": "stdout",
          "output_type": "stream",
          "text": [
            "Requirement already satisfied: pandas in /home/armando/.local/share/virtualenvs/personal-TRUYlswm/lib/python3.11/site-packages (2.1.1)\n",
            "Requirement already satisfied: numpy>=1.23.2 in /home/armando/.local/share/virtualenvs/personal-TRUYlswm/lib/python3.11/site-packages (from pandas) (1.26.0)\n",
            "Requirement already satisfied: python-dateutil>=2.8.2 in /home/armando/.local/share/virtualenvs/personal-TRUYlswm/lib/python3.11/site-packages (from pandas) (2.8.2)\n",
            "Requirement already satisfied: pytz>=2020.1 in /home/armando/.local/share/virtualenvs/personal-TRUYlswm/lib/python3.11/site-packages (from pandas) (2023.3.post1)\n",
            "Requirement already satisfied: tzdata>=2022.1 in /home/armando/.local/share/virtualenvs/personal-TRUYlswm/lib/python3.11/site-packages (from pandas) (2023.3)\n",
            "Requirement already satisfied: six>=1.5 in /home/armando/.local/share/virtualenvs/personal-TRUYlswm/lib/python3.11/site-packages (from python-dateutil>=2.8.2->pandas) (1.16.0)\n",
            "\n",
            "\u001b[1m[\u001b[0m\u001b[34;49mnotice\u001b[0m\u001b[1;39;49m]\u001b[0m\u001b[39;49m A new release of pip is available: \u001b[0m\u001b[31;49m23.1.2\u001b[0m\u001b[39;49m -> \u001b[0m\u001b[32;49m23.2.1\u001b[0m\n",
            "\u001b[1m[\u001b[0m\u001b[34;49mnotice\u001b[0m\u001b[1;39;49m]\u001b[0m\u001b[39;49m To update, run: \u001b[0m\u001b[32;49mpip install --upgrade pip\u001b[0m\n",
            "Requirement already satisfied: matplotlib in /home/armando/.local/share/virtualenvs/personal-TRUYlswm/lib/python3.11/site-packages (3.8.0)\n",
            "Requirement already satisfied: contourpy>=1.0.1 in /home/armando/.local/share/virtualenvs/personal-TRUYlswm/lib/python3.11/site-packages (from matplotlib) (1.1.1)\n",
            "Requirement already satisfied: cycler>=0.10 in /home/armando/.local/share/virtualenvs/personal-TRUYlswm/lib/python3.11/site-packages (from matplotlib) (0.11.0)\n",
            "Requirement already satisfied: fonttools>=4.22.0 in /home/armando/.local/share/virtualenvs/personal-TRUYlswm/lib/python3.11/site-packages (from matplotlib) (4.42.1)\n",
            "Requirement already satisfied: kiwisolver>=1.0.1 in /home/armando/.local/share/virtualenvs/personal-TRUYlswm/lib/python3.11/site-packages (from matplotlib) (1.4.5)\n",
            "Requirement already satisfied: numpy<2,>=1.21 in /home/armando/.local/share/virtualenvs/personal-TRUYlswm/lib/python3.11/site-packages (from matplotlib) (1.26.0)\n",
            "Requirement already satisfied: packaging>=20.0 in /home/armando/.local/share/virtualenvs/personal-TRUYlswm/lib/python3.11/site-packages (from matplotlib) (23.1)\n",
            "Requirement already satisfied: pillow>=6.2.0 in /home/armando/.local/share/virtualenvs/personal-TRUYlswm/lib/python3.11/site-packages (from matplotlib) (10.0.1)\n",
            "Requirement already satisfied: pyparsing>=2.3.1 in /home/armando/.local/share/virtualenvs/personal-TRUYlswm/lib/python3.11/site-packages (from matplotlib) (3.1.1)\n",
            "Requirement already satisfied: python-dateutil>=2.7 in /home/armando/.local/share/virtualenvs/personal-TRUYlswm/lib/python3.11/site-packages (from matplotlib) (2.8.2)\n",
            "Requirement already satisfied: six>=1.5 in /home/armando/.local/share/virtualenvs/personal-TRUYlswm/lib/python3.11/site-packages (from python-dateutil>=2.7->matplotlib) (1.16.0)\n",
            "\n",
            "\u001b[1m[\u001b[0m\u001b[34;49mnotice\u001b[0m\u001b[1;39;49m]\u001b[0m\u001b[39;49m A new release of pip is available: \u001b[0m\u001b[31;49m23.1.2\u001b[0m\u001b[39;49m -> \u001b[0m\u001b[32;49m23.2.1\u001b[0m\n",
            "\u001b[1m[\u001b[0m\u001b[34;49mnotice\u001b[0m\u001b[1;39;49m]\u001b[0m\u001b[39;49m To update, run: \u001b[0m\u001b[32;49mpip install --upgrade pip\u001b[0m\n"
          ]
        }
      ],
      "source": [
        "!pip install pandas\n",
        "!pip install matplotlib"
      ]
    },
    {
      "cell_type": "code",
      "execution_count": 2,
      "metadata": {
        "id": "F5JognteLaJV"
      },
      "outputs": [],
      "source": [
        "import pandas as pd\n",
        "air_df = pd.read_csv('LaqnData.csv')"
      ]
    },
    {
      "cell_type": "code",
      "execution_count": 3,
      "metadata": {},
      "outputs": [
        {
          "data": {
            "text/html": [
              "<div>\n",
              "<style scoped>\n",
              "    .dataframe tbody tr th:only-of-type {\n",
              "        vertical-align: middle;\n",
              "    }\n",
              "\n",
              "    .dataframe tbody tr th {\n",
              "        vertical-align: top;\n",
              "    }\n",
              "\n",
              "    .dataframe thead th {\n",
              "        text-align: right;\n",
              "    }\n",
              "</style>\n",
              "<table border=\"1\" class=\"dataframe\">\n",
              "  <thead>\n",
              "    <tr style=\"text-align: right;\">\n",
              "      <th></th>\n",
              "      <th>Site</th>\n",
              "      <th>Species</th>\n",
              "      <th>ReadingDateTime</th>\n",
              "      <th>Value</th>\n",
              "      <th>Units</th>\n",
              "      <th>Provisional or Ratified</th>\n",
              "    </tr>\n",
              "  </thead>\n",
              "  <tbody>\n",
              "    <tr>\n",
              "      <th>0</th>\n",
              "      <td>CT3</td>\n",
              "      <td>NO</td>\n",
              "      <td>01/01/2017 00:00</td>\n",
              "      <td>3.5</td>\n",
              "      <td>ug m-3</td>\n",
              "      <td>R</td>\n",
              "    </tr>\n",
              "    <tr>\n",
              "      <th>1</th>\n",
              "      <td>CT3</td>\n",
              "      <td>NO</td>\n",
              "      <td>01/01/2017 01:00</td>\n",
              "      <td>3.6</td>\n",
              "      <td>ug m-3</td>\n",
              "      <td>R</td>\n",
              "    </tr>\n",
              "    <tr>\n",
              "      <th>2</th>\n",
              "      <td>CT3</td>\n",
              "      <td>NO</td>\n",
              "      <td>01/01/2017 02:00</td>\n",
              "      <td>2.2</td>\n",
              "      <td>ug m-3</td>\n",
              "      <td>R</td>\n",
              "    </tr>\n",
              "    <tr>\n",
              "      <th>3</th>\n",
              "      <td>CT3</td>\n",
              "      <td>NO</td>\n",
              "      <td>01/01/2017 03:00</td>\n",
              "      <td>2.1</td>\n",
              "      <td>ug m-3</td>\n",
              "      <td>R</td>\n",
              "    </tr>\n",
              "    <tr>\n",
              "      <th>4</th>\n",
              "      <td>CT3</td>\n",
              "      <td>NO</td>\n",
              "      <td>01/01/2017 04:00</td>\n",
              "      <td>3.3</td>\n",
              "      <td>ug m-3</td>\n",
              "      <td>R</td>\n",
              "    </tr>\n",
              "  </tbody>\n",
              "</table>\n",
              "</div>"
            ],
            "text/plain": [
              "  Site Species   ReadingDateTime  Value   Units Provisional or Ratified\n",
              "0  CT3      NO  01/01/2017 00:00    3.5  ug m-3                       R\n",
              "1  CT3      NO  01/01/2017 01:00    3.6  ug m-3                       R\n",
              "2  CT3      NO  01/01/2017 02:00    2.2  ug m-3                       R\n",
              "3  CT3      NO  01/01/2017 03:00    2.1  ug m-3                       R\n",
              "4  CT3      NO  01/01/2017 04:00    3.3  ug m-3                       R"
            ]
          },
          "execution_count": 3,
          "metadata": {},
          "output_type": "execute_result"
        }
      ],
      "source": [
        "air_df.head()"
      ]
    },
    {
      "cell_type": "code",
      "execution_count": 4,
      "metadata": {},
      "outputs": [
        {
          "data": {
            "text/plain": [
              "(43800, 6)"
            ]
          },
          "execution_count": 4,
          "metadata": {},
          "output_type": "execute_result"
        }
      ],
      "source": [
        "air_df.shape"
      ]
    },
    {
      "cell_type": "code",
      "execution_count": 5,
      "metadata": {},
      "outputs": [
        {
          "data": {
            "text/plain": [
              "Index(['Site', 'Species', 'ReadingDateTime', 'Value', 'Units',\n",
              "       'Provisional or Ratified'],\n",
              "      dtype='object')"
            ]
          },
          "execution_count": 5,
          "metadata": {},
          "output_type": "execute_result"
        }
      ],
      "source": [
        "air_df.columns"
      ]
    },
    {
      "cell_type": "code",
      "execution_count": 6,
      "metadata": {},
      "outputs": [
        {
          "data": {
            "text/plain": [
              "Site                        object\n",
              "Species                     object\n",
              "ReadingDateTime             object\n",
              "Value                      float64\n",
              "Units                       object\n",
              "Provisional or Ratified     object\n",
              "dtype: object"
            ]
          },
          "execution_count": 6,
          "metadata": {},
          "output_type": "execute_result"
        }
      ],
      "source": [
        "air_df.dtypes"
      ]
    },
    {
      "cell_type": "code",
      "execution_count": 7,
      "metadata": {},
      "outputs": [
        {
          "name": "stdout",
          "output_type": "stream",
          "text": [
            "Dataframe total rows:  43800\n"
          ]
        },
        {
          "data": {
            "text/html": [
              "<div>\n",
              "<style scoped>\n",
              "    .dataframe tbody tr th:only-of-type {\n",
              "        vertical-align: middle;\n",
              "    }\n",
              "\n",
              "    .dataframe tbody tr th {\n",
              "        vertical-align: top;\n",
              "    }\n",
              "\n",
              "    .dataframe thead th {\n",
              "        text-align: right;\n",
              "    }\n",
              "</style>\n",
              "<table border=\"1\" class=\"dataframe\">\n",
              "  <thead>\n",
              "    <tr style=\"text-align: right;\">\n",
              "      <th></th>\n",
              "      <th>Data Type</th>\n",
              "      <th>Example 1</th>\n",
              "      <th>Example 2</th>\n",
              "      <th>Example 3</th>\n",
              "      <th>Total Not Missing</th>\n",
              "      <th>% of missing values</th>\n",
              "    </tr>\n",
              "  </thead>\n",
              "  <tbody>\n",
              "    <tr>\n",
              "      <th>Site</th>\n",
              "      <td>object</td>\n",
              "      <td>CT3</td>\n",
              "      <td>CT3</td>\n",
              "      <td>CT3</td>\n",
              "      <td>0</td>\n",
              "      <td>0.0 %</td>\n",
              "    </tr>\n",
              "    <tr>\n",
              "      <th>Species</th>\n",
              "      <td>object</td>\n",
              "      <td>PM2.5</td>\n",
              "      <td>PM2.5</td>\n",
              "      <td>NO2</td>\n",
              "      <td>0</td>\n",
              "      <td>0.0 %</td>\n",
              "    </tr>\n",
              "    <tr>\n",
              "      <th>ReadingDateTime</th>\n",
              "      <td>object</td>\n",
              "      <td>18/01/2017 02:00</td>\n",
              "      <td>16/02/2017 20:00</td>\n",
              "      <td>08/10/2017 19:00</td>\n",
              "      <td>0</td>\n",
              "      <td>0.0 %</td>\n",
              "    </tr>\n",
              "    <tr>\n",
              "      <th>Value</th>\n",
              "      <td>float64</td>\n",
              "      <td>22.0</td>\n",
              "      <td>16.0</td>\n",
              "      <td>57.9</td>\n",
              "      <td>3230</td>\n",
              "      <td>7.37 %</td>\n",
              "    </tr>\n",
              "    <tr>\n",
              "      <th>Units</th>\n",
              "      <td>object</td>\n",
              "      <td>ug m-3</td>\n",
              "      <td>ug m-3</td>\n",
              "      <td>ug m-3</td>\n",
              "      <td>0</td>\n",
              "      <td>0.0 %</td>\n",
              "    </tr>\n",
              "    <tr>\n",
              "      <th>Provisional or Ratified</th>\n",
              "      <td>object</td>\n",
              "      <td>R</td>\n",
              "      <td>R</td>\n",
              "      <td>R</td>\n",
              "      <td>0</td>\n",
              "      <td>0.0 %</td>\n",
              "    </tr>\n",
              "  </tbody>\n",
              "</table>\n",
              "</div>"
            ],
            "text/plain": [
              "                        Data Type         Example 1         Example 2  \\\n",
              "Site                       object               CT3               CT3   \n",
              "Species                    object             PM2.5             PM2.5   \n",
              "ReadingDateTime            object  18/01/2017 02:00  16/02/2017 20:00   \n",
              "Value                     float64              22.0              16.0   \n",
              "Units                      object            ug m-3            ug m-3   \n",
              "Provisional or Ratified    object                 R                 R   \n",
              "\n",
              "                                Example 3  Total Not Missing  \\\n",
              "Site                                  CT3                  0   \n",
              "Species                               NO2                  0   \n",
              "ReadingDateTime          08/10/2017 19:00                  0   \n",
              "Value                                57.9               3230   \n",
              "Units                              ug m-3                  0   \n",
              "Provisional or Ratified                 R                  0   \n",
              "\n",
              "                        % of missing values  \n",
              "Site                                  0.0 %  \n",
              "Species                               0.0 %  \n",
              "ReadingDateTime                       0.0 %  \n",
              "Value                                7.37 %  \n",
              "Units                                 0.0 %  \n",
              "Provisional or Ratified               0.0 %  "
            ]
          },
          "execution_count": 7,
          "metadata": {},
          "output_type": "execute_result"
        }
      ],
      "source": [
        "import random\n",
        "ex1, ex2, ex3 = random.sample(range(len(air_df)), 3)\n",
        "\n",
        "print(\"Dataframe total rows: \", len(air_df))\n",
        "df_info = pd.DataFrame(data = air_df.dtypes)\n",
        "missing_values_total = air_df.isnull().sum()\n",
        "missing_values_percent = round(missing_values_total/len(air_df)*100,2).astype(str)+\" %\"\n",
        "\n",
        "pd.concat([df_info[0].rename(\"Data Type\"),\\\n",
        "           air_df.T[ex1].rename(\"Example 1\"),\\\n",
        "           air_df.T[ex2].rename(\"Example 2\"),\\\n",
        "           air_df.T[ex3].rename(\"Example 3\"),\\\n",
        "           missing_values_total.rename(\"Total Not Missing\"), \\\n",
        "           missing_values_percent.rename(\"% of missing values\")], axis=1)"
      ]
    },
    {
      "cell_type": "markdown",
      "metadata": {
        "id": "APrlS185Cw-K"
      },
      "source": [
        "2.\tObtén la cantidad de valores únicos por columna (`nunique()`) para responder:\n",
        "\n",
        "\n",
        "*   ¿Cuántas mediciones se hicieron?\n",
        "*   ¿Cuántos contaminantes del aire (`Species`) se analizaron?\n",
        "*   ¿Qué columnas no agregan ningún valor informativo porque el mismo valor en todo el conjunto de datos? Elimínalas del dataframe.\n",
        "*   La columna `Units` tampoco posee valor informativo. Verifícalo con la función `unique()` y elimínala del dataframe."
      ]
    },
    {
      "cell_type": "code",
      "execution_count": 8,
      "metadata": {
        "id": "Ke0EGLVaCwm6"
      },
      "outputs": [
        {
          "name": "stdout",
          "output_type": "stream",
          "text": [
            "Número de mediciones realizadas: 8760\n",
            "Número de contaminantes del aire analizados: 5\n",
            "Columnas no informativas: ['Site', 'Provisional or Ratified']\n",
            "Valores únicos en la columna 'Units': ['ug m-3' 'ug m-3 as NO2' 'ug/m3']\n",
            "  Species   ReadingDateTime  Value\n",
            "0      NO  01/01/2017 00:00    3.5\n",
            "1      NO  01/01/2017 01:00    3.6\n",
            "2      NO  01/01/2017 02:00    2.2\n",
            "3      NO  01/01/2017 03:00    2.1\n",
            "4      NO  01/01/2017 04:00    3.3\n"
          ]
        }
      ],
      "source": [
        "\n",
        "# a. ¿Cuántas mediciones se hicieron?\n",
        "mediciones_realizadas = air_df['ReadingDateTime'].nunique()\n",
        "print(f\"Número de mediciones realizadas: {mediciones_realizadas}\")\n",
        "\n",
        "# b. ¿Cuántos contaminantes del aire (`Species`) se analizaron?\n",
        "contaminantes_analizados = air_df['Species'].nunique()\n",
        "print(f\"Número de contaminantes del aire analizados: {contaminantes_analizados}\")\n",
        "\n",
        "# c. ¿Qué columnas no agregan ningún valor informativo porque tienen el mismo valor en todo el conjunto de datos?\n",
        "# Dichas columnas tendrán un conteo único de 1.\n",
        "valores_unicos_por_columna = air_df.nunique()\n",
        "columnas_no_informativas = valores_unicos_por_columna[valores_unicos_por_columna == 1].index.tolist()\n",
        "print(f\"Columnas no informativas: {columnas_no_informativas}\")\n",
        "\n",
        "# Eliminar esas columnas del dataframe\n",
        "air_df = air_df.drop(columns=columnas_no_informativas)\n",
        "\n",
        "# d. La columna `Units` tampoco tiene valor informativo.\n",
        "# Para verificar esto, verifica sus valores únicos con `unique()`\n",
        "unidades_unicas = air_df['Units'].unique()\n",
        "print(f\"Valores únicos en la columna 'Units': {unidades_unicas}\")\n",
        "\n",
        "# Elimina la columna `Units` del dataframe ya que no proporciona valor informativo.\n",
        "air_df = air_df.drop(columns='Units')\n",
        "\n",
        "# Muestra el dataframe actualizado (si es necesario)\n",
        "print(air_df.head())\n"
      ]
    },
    {
      "cell_type": "markdown",
      "metadata": {
        "id": "zEddCwHWEJZ7"
      },
      "source": [
        "3.\tRealiza el conteo de valores por categoría (`value_counts()`) para la columna `Species` y determina si las lecturas de cada contaminante coincide con el total de mediciones."
      ]
    },
    {
      "cell_type": "code",
      "execution_count": 9,
      "metadata": {
        "id": "inCKasmZEPsv"
      },
      "outputs": [
        {
          "data": {
            "text/plain": [
              "Species\n",
              "NO       8760\n",
              "NO2      8760\n",
              "NOX      8760\n",
              "PM10     8760\n",
              "PM2.5    8760\n",
              "Name: count, dtype: int64"
            ]
          },
          "execution_count": 9,
          "metadata": {},
          "output_type": "execute_result"
        }
      ],
      "source": [
        "air_df[\"Species\"].value_counts()"
      ]
    },
    {
      "cell_type": "markdown",
      "metadata": {},
      "source": [
        "Sí, coinciden los totales"
      ]
    },
    {
      "cell_type": "markdown",
      "metadata": {
        "id": "zhJM6l1vETfI"
      },
      "source": [
        "4.\tUtiliza la función `groupby()` para determinar el promedio del valor por contaminante."
      ]
    },
    {
      "cell_type": "code",
      "execution_count": 10,
      "metadata": {
        "id": "zstyHahSETJK"
      },
      "outputs": [
        {
          "data": {
            "text/html": [
              "<div>\n",
              "<style scoped>\n",
              "    .dataframe tbody tr th:only-of-type {\n",
              "        vertical-align: middle;\n",
              "    }\n",
              "\n",
              "    .dataframe tbody tr th {\n",
              "        vertical-align: top;\n",
              "    }\n",
              "\n",
              "    .dataframe thead th {\n",
              "        text-align: right;\n",
              "    }\n",
              "</style>\n",
              "<table border=\"1\" class=\"dataframe\">\n",
              "  <thead>\n",
              "    <tr style=\"text-align: right;\">\n",
              "      <th></th>\n",
              "      <th>Value</th>\n",
              "    </tr>\n",
              "    <tr>\n",
              "      <th>Species</th>\n",
              "      <th></th>\n",
              "    </tr>\n",
              "  </thead>\n",
              "  <tbody>\n",
              "    <tr>\n",
              "      <th>NO</th>\n",
              "      <td>15.045115</td>\n",
              "    </tr>\n",
              "    <tr>\n",
              "      <th>NO2</th>\n",
              "      <td>38.010185</td>\n",
              "    </tr>\n",
              "    <tr>\n",
              "      <th>NOX</th>\n",
              "      <td>61.078661</td>\n",
              "    </tr>\n",
              "    <tr>\n",
              "      <th>PM10</th>\n",
              "      <td>22.551704</td>\n",
              "    </tr>\n",
              "    <tr>\n",
              "      <th>PM2.5</th>\n",
              "      <td>14.999831</td>\n",
              "    </tr>\n",
              "  </tbody>\n",
              "</table>\n",
              "</div>"
            ],
            "text/plain": [
              "             Value\n",
              "Species           \n",
              "NO       15.045115\n",
              "NO2      38.010185\n",
              "NOX      61.078661\n",
              "PM10     22.551704\n",
              "PM2.5    14.999831"
            ]
          },
          "execution_count": 10,
          "metadata": {},
          "output_type": "execute_result"
        }
      ],
      "source": [
        "air_df.groupby(\"Species\").mean(\"Value\")"
      ]
    },
    {
      "cell_type": "markdown",
      "metadata": {
        "id": "GY2ux-Q_EV7J"
      },
      "source": [
        "5.\tEl conjunto de datos está en un formato largo. Aplique la función apropiada para cambiarlo al formato ancho (`ReadingDateTime` como índice y cada contaminante en una columna). Nombre el dataframe resultante como `pvt_df`."
      ]
    },
    {
      "cell_type": "code",
      "execution_count": 11,
      "metadata": {
        "id": "1IETxb9vFIF-"
      },
      "outputs": [
        {
          "data": {
            "text/html": [
              "<div>\n",
              "<style scoped>\n",
              "    .dataframe tbody tr th:only-of-type {\n",
              "        vertical-align: middle;\n",
              "    }\n",
              "\n",
              "    .dataframe tbody tr th {\n",
              "        vertical-align: top;\n",
              "    }\n",
              "\n",
              "    .dataframe thead th {\n",
              "        text-align: right;\n",
              "    }\n",
              "</style>\n",
              "<table border=\"1\" class=\"dataframe\">\n",
              "  <thead>\n",
              "    <tr style=\"text-align: right;\">\n",
              "      <th>Species</th>\n",
              "      <th>NO</th>\n",
              "      <th>NO2</th>\n",
              "      <th>NOX</th>\n",
              "      <th>PM10</th>\n",
              "      <th>PM2.5</th>\n",
              "    </tr>\n",
              "    <tr>\n",
              "      <th>ReadingDateTime</th>\n",
              "      <th></th>\n",
              "      <th></th>\n",
              "      <th></th>\n",
              "      <th></th>\n",
              "      <th></th>\n",
              "    </tr>\n",
              "  </thead>\n",
              "  <tbody>\n",
              "    <tr>\n",
              "      <th>01/01/2017 00:00</th>\n",
              "      <td>3.5</td>\n",
              "      <td>30.8</td>\n",
              "      <td>36.2</td>\n",
              "      <td>35.7</td>\n",
              "      <td>NaN</td>\n",
              "    </tr>\n",
              "    <tr>\n",
              "      <th>01/01/2017 01:00</th>\n",
              "      <td>3.6</td>\n",
              "      <td>31.5</td>\n",
              "      <td>37.0</td>\n",
              "      <td>28.5</td>\n",
              "      <td>NaN</td>\n",
              "    </tr>\n",
              "    <tr>\n",
              "      <th>01/01/2017 02:00</th>\n",
              "      <td>2.2</td>\n",
              "      <td>27.3</td>\n",
              "      <td>30.7</td>\n",
              "      <td>22.7</td>\n",
              "      <td>NaN</td>\n",
              "    </tr>\n",
              "    <tr>\n",
              "      <th>01/01/2017 03:00</th>\n",
              "      <td>2.1</td>\n",
              "      <td>23.5</td>\n",
              "      <td>26.8</td>\n",
              "      <td>20.5</td>\n",
              "      <td>NaN</td>\n",
              "    </tr>\n",
              "    <tr>\n",
              "      <th>01/01/2017 04:00</th>\n",
              "      <td>3.3</td>\n",
              "      <td>28.0</td>\n",
              "      <td>33.0</td>\n",
              "      <td>22.1</td>\n",
              "      <td>NaN</td>\n",
              "    </tr>\n",
              "    <tr>\n",
              "      <th>...</th>\n",
              "      <td>...</td>\n",
              "      <td>...</td>\n",
              "      <td>...</td>\n",
              "      <td>...</td>\n",
              "      <td>...</td>\n",
              "    </tr>\n",
              "    <tr>\n",
              "      <th>31/12/2017 19:00</th>\n",
              "      <td>0.7</td>\n",
              "      <td>17.5</td>\n",
              "      <td>18.5</td>\n",
              "      <td>16.3</td>\n",
              "      <td>-2.0</td>\n",
              "    </tr>\n",
              "    <tr>\n",
              "      <th>31/12/2017 20:00</th>\n",
              "      <td>0.7</td>\n",
              "      <td>17.5</td>\n",
              "      <td>18.6</td>\n",
              "      <td>14.5</td>\n",
              "      <td>6.0</td>\n",
              "    </tr>\n",
              "    <tr>\n",
              "      <th>31/12/2017 21:00</th>\n",
              "      <td>0.7</td>\n",
              "      <td>14.1</td>\n",
              "      <td>15.1</td>\n",
              "      <td>8.6</td>\n",
              "      <td>5.0</td>\n",
              "    </tr>\n",
              "    <tr>\n",
              "      <th>31/12/2017 22:00</th>\n",
              "      <td>1.1</td>\n",
              "      <td>22.0</td>\n",
              "      <td>23.6</td>\n",
              "      <td>12.5</td>\n",
              "      <td>5.0</td>\n",
              "    </tr>\n",
              "    <tr>\n",
              "      <th>31/12/2017 23:00</th>\n",
              "      <td>0.9</td>\n",
              "      <td>19.4</td>\n",
              "      <td>20.7</td>\n",
              "      <td>10.4</td>\n",
              "      <td>6.0</td>\n",
              "    </tr>\n",
              "  </tbody>\n",
              "</table>\n",
              "<p>8760 rows × 5 columns</p>\n",
              "</div>"
            ],
            "text/plain": [
              "Species            NO   NO2   NOX  PM10  PM2.5\n",
              "ReadingDateTime                               \n",
              "01/01/2017 00:00  3.5  30.8  36.2  35.7    NaN\n",
              "01/01/2017 01:00  3.6  31.5  37.0  28.5    NaN\n",
              "01/01/2017 02:00  2.2  27.3  30.7  22.7    NaN\n",
              "01/01/2017 03:00  2.1  23.5  26.8  20.5    NaN\n",
              "01/01/2017 04:00  3.3  28.0  33.0  22.1    NaN\n",
              "...               ...   ...   ...   ...    ...\n",
              "31/12/2017 19:00  0.7  17.5  18.5  16.3   -2.0\n",
              "31/12/2017 20:00  0.7  17.5  18.6  14.5    6.0\n",
              "31/12/2017 21:00  0.7  14.1  15.1   8.6    5.0\n",
              "31/12/2017 22:00  1.1  22.0  23.6  12.5    5.0\n",
              "31/12/2017 23:00  0.9  19.4  20.7  10.4    6.0\n",
              "\n",
              "[8760 rows x 5 columns]"
            ]
          },
          "execution_count": 11,
          "metadata": {},
          "output_type": "execute_result"
        }
      ],
      "source": [
        "pvt_df = air_df.pivot(index='ReadingDateTime', columns='Species', values='Value')\n",
        "pvt_df"
      ]
    },
    {
      "cell_type": "markdown",
      "metadata": {
        "id": "JmbiBXqFFIZx"
      },
      "source": [
        "6.\tA través de la función `describe()` responde:\n",
        "\n",
        "*   ¿Cuál es el mayor valor de `NO2` registrado? ¿A qué día pertenece?\n",
        "*   ¿Cuál es el menor valor de `PM10` registrado?¿A qué día pertenece?\n",
        "*   ¿Cuál es la mediana del `NO`? ¿Cómo se interpreta?\n",
        "*   ¿Cuál es el primer cuartil de `PM2.5`? ¿Qué significa?"
      ]
    },
    {
      "cell_type": "code",
      "execution_count": 12,
      "metadata": {
        "id": "_qWYoEx3Fbod"
      },
      "outputs": [
        {
          "name": "stdout",
          "output_type": "stream",
          "text": [
            "El mayor valor de NO2 registrado es 120.2 y pertenece al día 24/01/2017 19:00.\n",
            "El menor valor de PM10 registrado es -5.6 y pertenece al día 12/09/2017 23:00.\n",
            "La mediana de NO es 7.1.\n",
            "Interpretación: \n",
            "La mediana representa el valor medio cuando se ordenan todas las observaciones de NO.\n",
            "Es el valor que separa la mitad superior de los datos de la mitad inferior. Esto significa que el 50% \n",
            "de las mediciones son inferiores a este valor y el 50% restante son superiores a este valor.\n",
            "\n",
            "El primer cuartil de PM2.5 es 7.0.\n",
            "Interpretación: \n",
            "El primer cuartil (Q1) es el valor por debajo del cual se encuentra el 25% de los datos.\n",
            "Esto significa que el 25% de todas las mediciones de PM2.5 son inferiores a este valor.\n",
            "\n"
          ]
        }
      ],
      "source": [
        "desc = pvt_df.describe()\n",
        "\n",
        "# a. ¿Cuál es el mayor valor de `NO2` registrado? ¿A qué día pertenece?\n",
        "max_no2 = desc.loc['max', 'NO2']\n",
        "date_max_no2 = pvt_df[pvt_df['NO2'] == max_no2].index[0]\n",
        "\n",
        "# b. ¿Cuál es el menor valor de `PM10` registrado? ¿A qué día pertenece?\n",
        "min_pm10 = desc.loc['min', 'PM10']\n",
        "date_min_pm10 = pvt_df[pvt_df['PM10'] == min_pm10].index[0]\n",
        "\n",
        "# c. ¿Cuál es la mediana del `NO`? ¿Cómo se interpreta?\n",
        "median_no = desc.loc['50%', 'NO']\n",
        "interpretation_median = \"\"\"\n",
        "La mediana representa el valor medio cuando se ordenan todas las observaciones de NO.\n",
        "Es el valor que separa la mitad superior de los datos de la mitad inferior. Esto significa que el 50% \n",
        "de las mediciones son inferiores a este valor y el 50% restante son superiores a este valor.\n",
        "\"\"\"\n",
        "\n",
        "# d. ¿Cuál es el primer cuartil de `PM2.5`? ¿Qué significa?\n",
        "q1_pm25 = desc.loc['25%', 'PM2.5']\n",
        "interpretation_q1 = \"\"\"\n",
        "El primer cuartil (Q1) es el valor por debajo del cual se encuentra el 25% de los datos.\n",
        "Esto significa que el 25% de todas las mediciones de PM2.5 son inferiores a este valor.\n",
        "\"\"\"\n",
        "\n",
        "print(f\"El mayor valor de NO2 registrado es {max_no2} y pertenece al día {date_max_no2}.\")\n",
        "print(f\"El menor valor de PM10 registrado es {min_pm10} y pertenece al día {date_min_pm10}.\")\n",
        "print(f\"La mediana de NO es {median_no}.\\nInterpretación: {interpretation_median}\")\n",
        "print(f\"El primer cuartil de PM2.5 es {q1_pm25}.\\nInterpretación: {interpretation_q1}\")\n"
      ]
    },
    {
      "cell_type": "markdown",
      "metadata": {
        "id": "Rki16hYaFd9p"
      },
      "source": [
        "7.\tDibuja un histograma para cada columna de `pvt_df`. ¿Qué contaminante tiene mayor variabilidad?"
      ]
    },
    {
      "cell_type": "code",
      "execution_count": 13,
      "metadata": {
        "id": "NaGkunSeFfn8"
      },
      "outputs": [
        {
          "data": {
            "image/png": "[encoded data removed]",
            "text/plain": [
              "<Figure size 1000x600 with 1 Axes>"
            ]
          },
          "metadata": {},
          "output_type": "display_data"
        },
        {
          "data": {
            "image/png": "[encoded data removed]",
            "text/plain": [
              "<Figure size 1000x600 with 1 Axes>"
            ]
          },
          "metadata": {},
          "output_type": "display_data"
        },
        {
          "data": {
            "image/png": "[encoded data removed]",
            "text/plain": [
              "<Figure size 1000x600 with 1 Axes>"
            ]
          },
          "metadata": {},
          "output_type": "display_data"
        },
        {
          "data": {
            "image/png": "[encoded data removed]",
            "text/plain": [
              "<Figure size 1000x600 with 1 Axes>"
            ]
          },
          "metadata": {},
          "output_type": "display_data"
        },
        {
          "data": {
            "image/png": "[encoded data removed]",
            "text/plain": [
              "<Figure size 1000x600 with 1 Axes>"
            ]
          },
          "metadata": {},
          "output_type": "display_data"
        },
        {
          "name": "stdout",
          "output_type": "stream",
          "text": [
            "El contaminante con la mayor variabilidad es NOX con una desviación estándar de 54.58.\n"
          ]
        }
      ],
      "source": [
        "import matplotlib.pyplot as plt\n",
        "\n",
        "# Dibujar histogramas\n",
        "for col in pvt_df.columns:\n",
        "    plt.figure(figsize=(10, 6))\n",
        "    plt.hist(pvt_df[col].dropna(), bins=30, edgecolor='k', alpha=0.7)  # Excluir valores NaN con dropna()\n",
        "    plt.title(f'Histograma de {col}')\n",
        "    plt.xlabel(col)\n",
        "    plt.ylabel('Frecuencia')\n",
        "    plt.grid(True)\n",
        "    plt.show()\n",
        "\n",
        "# Determinar qué contaminante tiene mayor variabilidad usando desviación estándar\n",
        "std_devs = pvt_df.std()\n",
        "most_variable_contaminant = std_devs.idxmax()\n",
        "\n",
        "print(f\"El contaminante con la mayor variabilidad es {most_variable_contaminant} con una desviación estándar de {std_devs[most_variable_contaminant]:.2f}.\")\n"
      ]
    },
    {
      "cell_type": "markdown",
      "metadata": {
        "id": "2hJ4LzP3fgvy"
      },
      "source": [
        "8.\tEjecuta el siguiente código y comenta qué hace cada línea:"
      ]
    },
    {
      "cell_type": "code",
      "execution_count": 14,
      "metadata": {
        "id": "goQuWzNVfomA"
      },
      "outputs": [
        {
          "data": {
            "text/html": [
              "<div>\n",
              "<style scoped>\n",
              "    .dataframe tbody tr th:only-of-type {\n",
              "        vertical-align: middle;\n",
              "    }\n",
              "\n",
              "    .dataframe tbody tr th {\n",
              "        vertical-align: top;\n",
              "    }\n",
              "\n",
              "    .dataframe thead th {\n",
              "        text-align: right;\n",
              "    }\n",
              "</style>\n",
              "<table border=\"1\" class=\"dataframe\">\n",
              "  <thead>\n",
              "    <tr style=\"text-align: right;\">\n",
              "      <th></th>\n",
              "      <th></th>\n",
              "      <th></th>\n",
              "      <th></th>\n",
              "      <th>Value</th>\n",
              "    </tr>\n",
              "    <tr>\n",
              "      <th>Month</th>\n",
              "      <th>Day</th>\n",
              "      <th>Time</th>\n",
              "      <th>Species</th>\n",
              "      <th></th>\n",
              "    </tr>\n",
              "  </thead>\n",
              "  <tbody>\n",
              "    <tr>\n",
              "      <th rowspan=\"5\" valign=\"top\">01</th>\n",
              "      <th rowspan=\"5\" valign=\"top\">01</th>\n",
              "      <th>00:00</th>\n",
              "      <th>NO</th>\n",
              "      <td>3.5</td>\n",
              "    </tr>\n",
              "    <tr>\n",
              "      <th>01:00</th>\n",
              "      <th>NO</th>\n",
              "      <td>3.6</td>\n",
              "    </tr>\n",
              "    <tr>\n",
              "      <th>02:00</th>\n",
              "      <th>NO</th>\n",
              "      <td>2.2</td>\n",
              "    </tr>\n",
              "    <tr>\n",
              "      <th>03:00</th>\n",
              "      <th>NO</th>\n",
              "      <td>2.1</td>\n",
              "    </tr>\n",
              "    <tr>\n",
              "      <th>04:00</th>\n",
              "      <th>NO</th>\n",
              "      <td>3.3</td>\n",
              "    </tr>\n",
              "    <tr>\n",
              "      <th>...</th>\n",
              "      <th>...</th>\n",
              "      <th>...</th>\n",
              "      <th>...</th>\n",
              "      <td>...</td>\n",
              "    </tr>\n",
              "    <tr>\n",
              "      <th rowspan=\"5\" valign=\"top\">12</th>\n",
              "      <th rowspan=\"5\" valign=\"top\">31</th>\n",
              "      <th>19:00</th>\n",
              "      <th>PM2.5</th>\n",
              "      <td>-2.0</td>\n",
              "    </tr>\n",
              "    <tr>\n",
              "      <th>20:00</th>\n",
              "      <th>PM2.5</th>\n",
              "      <td>6.0</td>\n",
              "    </tr>\n",
              "    <tr>\n",
              "      <th>21:00</th>\n",
              "      <th>PM2.5</th>\n",
              "      <td>5.0</td>\n",
              "    </tr>\n",
              "    <tr>\n",
              "      <th>22:00</th>\n",
              "      <th>PM2.5</th>\n",
              "      <td>5.0</td>\n",
              "    </tr>\n",
              "    <tr>\n",
              "      <th>23:00</th>\n",
              "      <th>PM2.5</th>\n",
              "      <td>6.0</td>\n",
              "    </tr>\n",
              "  </tbody>\n",
              "</table>\n",
              "<p>43800 rows × 1 columns</p>\n",
              "</div>"
            ],
            "text/plain": [
              "                         Value\n",
              "Month Day Time  Species       \n",
              "01    01  00:00 NO         3.5\n",
              "          01:00 NO         3.6\n",
              "          02:00 NO         2.2\n",
              "          03:00 NO         2.1\n",
              "          04:00 NO         3.3\n",
              "...                        ...\n",
              "12    31  19:00 PM2.5     -2.0\n",
              "          20:00 PM2.5      6.0\n",
              "          21:00 PM2.5      5.0\n",
              "          22:00 PM2.5      5.0\n",
              "          23:00 PM2.5      6.0\n",
              "\n",
              "[43800 rows x 1 columns]"
            ]
          },
          "execution_count": 14,
          "metadata": {},
          "output_type": "execute_result"
        }
      ],
      "source": [
        "datetime_df = air_df.ReadingDateTime.str.split(' ',expand=True)\n",
        "datetime_df.columns = ['Date','Time']\n",
        "datetime_df\n",
        "date_df = datetime_df.Date.str.split('/',expand=True)\n",
        "date_df.columns = ['Day','Month','Year']\n",
        "date_df\n",
        "air_df = air_df.join(date_df).join(datetime_df.Time).drop(columns=['ReadingDateTime','Year'])\n",
        "air_df = air_df.set_index(['Month','Day','Time','Species'])\n",
        "air_df"
      ]
    },
    {
      "cell_type": "markdown",
      "metadata": {},
      "source": [
        "1. datetime_df = air_df.ReadingDateTime.str.split(' ',expand=True)\n",
        "- Esta línea divide la columna 'ReadingDateTime' del dataframe 'air_df' en dos partes utilizando el espacio como delimitador. El resultado es un nuevo dataframe llamado 'datetime_df' que tiene dos columnas: una para la fecha y otra para la hora.\n",
        "\n",
        "2. datetime_df.columns = ['Date','Time']\n",
        "- Aquí se están renombrando las columnas del dataframe 'datetime_df' a 'Date' y 'Time' para representar más claramente su contenido.\n",
        "\n",
        "3. date_df = datetime_df.Date.str.split('/',expand=True)\n",
        "- Esta línea toma la columna 'Date' del dataframe 'datetime_df' y la divide nuevamente, esta vez utilizando el carácter '/' como delimitador. Esto se hace porque se espera que la fecha esté en un formato del tipo día/mes/año. El resultado es otro dataframe llamado 'date_df' que tiene tres columnas para el día, el mes y el año, respectivamente.\n",
        "\n",
        "4. date_df.columns = ['Day','Month','Year']\n",
        "- Estás asignando nombres a las columnas del dataframe 'date_df', específicamente 'Day', 'Month' y 'Year'.\n",
        "\n",
        "5. air_df = air_df.join(date_df).join(datetime_df.Time).drop(columns=['ReadingDateTime','Year'])\n",
        "- Aquí estás combinando los dataframes 'air_df', 'date_df' y 'datetime_df' en uno solo. Primero, unes 'air_df' con 'date_df' para agregar las columnas de día, mes y año. Luego, unes la columna 'Time' de 'datetime_df'. Finalmente, eliminas las columnas 'ReadingDateTime' y 'Year' porque ya no son necesarias o son redundantes.\n",
        "\n",
        "6. air_df = air_df.set_index(['Month','Day','Time','Species'])\n",
        "- En esta última línea, estás reorganizando el dataframe 'air_df' para que tenga un índice jerárquico. El nuevo índice se compone de las columnas 'Month', 'Day', 'Time' y 'Species'. Esto puede ser útil para realizar análisis más específicos o para mejorar el rendimiento de ciertas operaciones.\n"
      ]
    },
    {
      "cell_type": "markdown",
      "metadata": {
        "id": "37E3dol8fpik"
      },
      "source": [
        "9. Ejecuta la siguiente instrucción y compara su salida con la del código anterior (ejercicio 8). ¿Son iguales?"
      ]
    },
    {
      "cell_type": "code",
      "execution_count": 15,
      "metadata": {
        "id": "cgbAxJrvfweW"
      },
      "outputs": [
        {
          "data": {
            "text/html": [
              "<div>\n",
              "<style scoped>\n",
              "    .dataframe tbody tr th:only-of-type {\n",
              "        vertical-align: middle;\n",
              "    }\n",
              "\n",
              "    .dataframe tbody tr th {\n",
              "        vertical-align: top;\n",
              "    }\n",
              "\n",
              "    .dataframe thead tr th {\n",
              "        text-align: left;\n",
              "    }\n",
              "\n",
              "    .dataframe thead tr:last-of-type th {\n",
              "        text-align: right;\n",
              "    }\n",
              "</style>\n",
              "<table border=\"1\" class=\"dataframe\">\n",
              "  <thead>\n",
              "    <tr>\n",
              "      <th></th>\n",
              "      <th></th>\n",
              "      <th></th>\n",
              "      <th colspan=\"5\" halign=\"left\">Value</th>\n",
              "    </tr>\n",
              "    <tr>\n",
              "      <th></th>\n",
              "      <th></th>\n",
              "      <th>Species</th>\n",
              "      <th>NO</th>\n",
              "      <th>NO2</th>\n",
              "      <th>NOX</th>\n",
              "      <th>PM10</th>\n",
              "      <th>PM2.5</th>\n",
              "    </tr>\n",
              "    <tr>\n",
              "      <th>Month</th>\n",
              "      <th>Day</th>\n",
              "      <th>Time</th>\n",
              "      <th></th>\n",
              "      <th></th>\n",
              "      <th></th>\n",
              "      <th></th>\n",
              "      <th></th>\n",
              "    </tr>\n",
              "  </thead>\n",
              "  <tbody>\n",
              "    <tr>\n",
              "      <th rowspan=\"5\" valign=\"top\">01</th>\n",
              "      <th rowspan=\"5\" valign=\"top\">01</th>\n",
              "      <th>00:00</th>\n",
              "      <td>3.5</td>\n",
              "      <td>30.8</td>\n",
              "      <td>36.2</td>\n",
              "      <td>35.7</td>\n",
              "      <td>NaN</td>\n",
              "    </tr>\n",
              "    <tr>\n",
              "      <th>01:00</th>\n",
              "      <td>3.6</td>\n",
              "      <td>31.5</td>\n",
              "      <td>37.0</td>\n",
              "      <td>28.5</td>\n",
              "      <td>NaN</td>\n",
              "    </tr>\n",
              "    <tr>\n",
              "      <th>02:00</th>\n",
              "      <td>2.2</td>\n",
              "      <td>27.3</td>\n",
              "      <td>30.7</td>\n",
              "      <td>22.7</td>\n",
              "      <td>NaN</td>\n",
              "    </tr>\n",
              "    <tr>\n",
              "      <th>03:00</th>\n",
              "      <td>2.1</td>\n",
              "      <td>23.5</td>\n",
              "      <td>26.8</td>\n",
              "      <td>20.5</td>\n",
              "      <td>NaN</td>\n",
              "    </tr>\n",
              "    <tr>\n",
              "      <th>04:00</th>\n",
              "      <td>3.3</td>\n",
              "      <td>28.0</td>\n",
              "      <td>33.0</td>\n",
              "      <td>22.1</td>\n",
              "      <td>NaN</td>\n",
              "    </tr>\n",
              "    <tr>\n",
              "      <th>...</th>\n",
              "      <th>...</th>\n",
              "      <th>...</th>\n",
              "      <td>...</td>\n",
              "      <td>...</td>\n",
              "      <td>...</td>\n",
              "      <td>...</td>\n",
              "      <td>...</td>\n",
              "    </tr>\n",
              "    <tr>\n",
              "      <th rowspan=\"5\" valign=\"top\">12</th>\n",
              "      <th rowspan=\"5\" valign=\"top\">31</th>\n",
              "      <th>19:00</th>\n",
              "      <td>0.7</td>\n",
              "      <td>17.5</td>\n",
              "      <td>18.5</td>\n",
              "      <td>16.3</td>\n",
              "      <td>-2.0</td>\n",
              "    </tr>\n",
              "    <tr>\n",
              "      <th>20:00</th>\n",
              "      <td>0.7</td>\n",
              "      <td>17.5</td>\n",
              "      <td>18.6</td>\n",
              "      <td>14.5</td>\n",
              "      <td>6.0</td>\n",
              "    </tr>\n",
              "    <tr>\n",
              "      <th>21:00</th>\n",
              "      <td>0.7</td>\n",
              "      <td>14.1</td>\n",
              "      <td>15.1</td>\n",
              "      <td>8.6</td>\n",
              "      <td>5.0</td>\n",
              "    </tr>\n",
              "    <tr>\n",
              "      <th>22:00</th>\n",
              "      <td>1.1</td>\n",
              "      <td>22.0</td>\n",
              "      <td>23.6</td>\n",
              "      <td>12.5</td>\n",
              "      <td>5.0</td>\n",
              "    </tr>\n",
              "    <tr>\n",
              "      <th>23:00</th>\n",
              "      <td>0.9</td>\n",
              "      <td>19.4</td>\n",
              "      <td>20.7</td>\n",
              "      <td>10.4</td>\n",
              "      <td>6.0</td>\n",
              "    </tr>\n",
              "  </tbody>\n",
              "</table>\n",
              "<p>8760 rows × 5 columns</p>\n",
              "</div>"
            ],
            "text/plain": [
              "                Value                        \n",
              "Species            NO   NO2   NOX  PM10 PM2.5\n",
              "Month Day Time                               \n",
              "01    01  00:00   3.5  30.8  36.2  35.7   NaN\n",
              "          01:00   3.6  31.5  37.0  28.5   NaN\n",
              "          02:00   2.2  27.3  30.7  22.7   NaN\n",
              "          03:00   2.1  23.5  26.8  20.5   NaN\n",
              "          04:00   3.3  28.0  33.0  22.1   NaN\n",
              "...               ...   ...   ...   ...   ...\n",
              "12    31  19:00   0.7  17.5  18.5  16.3  -2.0\n",
              "          20:00   0.7  17.5  18.6  14.5   6.0\n",
              "          21:00   0.7  14.1  15.1   8.6   5.0\n",
              "          22:00   1.1  22.0  23.6  12.5   5.0\n",
              "          23:00   0.9  19.4  20.7  10.4   6.0\n",
              "\n",
              "[8760 rows x 5 columns]"
            ]
          },
          "execution_count": 15,
          "metadata": {},
          "output_type": "execute_result"
        }
      ],
      "source": [
        "air_df.unstack()"
      ]
    },
    {
      "cell_type": "markdown",
      "metadata": {
        "id": "K1vWLX2ffxHV"
      },
      "source": [
        "10.\tExplica cuáles son las diferencias y similitudes entre el par `melt()/pivot()` y el par `stack()/unstack()`. Si tuvieras que elegir una contraparte para `melt()` entre `stack()/unstack()`, ¿cuál elegirías? ¿Por qué?"
      ]
    },
    {
      "cell_type": "markdown",
      "metadata": {
        "id": "L0EtgOVIfzRd"
      },
      "source": [
        "Nivel de operación:\n",
        "\n",
        "melt() y pivot(): Operan principalmente a nivel de DataFrame, permitiendo transformar entre formatos largos y anchos.\n",
        "stack() y unstack(): Operan a nivel de series y dataframes multi-índice, permitiendo mover entre niveles de índice y columnas.\n",
        "Uso principal:\n",
        "\n",
        "melt(): Convierte un DataFrame de formato ancho a largo.\n",
        "pivot(): Convierte un DataFrame de formato largo a ancho.\n",
        "stack(): \"Apila\" las columnas de un DataFrame, moviéndolas al índice.\n",
        "unstack(): Realiza la operación contraria, \"desapilando\" niveles del índice y moviéndolos a las columnas.\n",
        "Especificidad:\n",
        "\n",
        "melt() y pivot(): Son más específicos en sus operaciones, requiriendo que se especifiquen las columnas a \"derretir\" o a usar como índices y valores al pivotar.\n",
        "stack() y unstack(): Son operaciones más generales, afectando al DataFrame o Serie en su totalidad o a niveles de índice específicos.\n",
        "Resultado:\n",
        "\n",
        "melt() y pivot(): Suelen resultar en dataframes con un índice simple.\n",
        "stack() y unstack(): Suelen trabajar con o resultar en dataframes con índices jerárquicos (multi-índice).\n",
        "Contraparte de melt() entre stack() y unstack():\n",
        "\n",
        "La contraparte más cercana a melt() sería stack(). Ambas operaciones convierten datos de un formato ancho a un formato largo. Sin embargo, es importante notar que, mientras melt() opera transformando columnas en filas basado en columnas específicas del dataframe, stack() opera a nivel de índice, apilando columnas en el índice.\n",
        "En resumen, aunque melt() y stack() pueden lograr transformaciones similares, su operación y enfoque son diferentes. Si tuviera que convertir un DataFrame de formato ancho a largo y no me preocupara trabajar con multi-índices, podría usar stack(). Sin embargo, si quisiera más control y especificidad sobre qué columnas \"derretir\" en filas, usaría melt().\n"
      ]
    }
  ],
  "metadata": {
    "colab": {
      "provenance": []
    },
    "kernelspec": {
      "display_name": "Python 3",
      "name": "python3"
    },
    "language_info": {
      "codemirror_mode": {
        "name": "ipython",
        "version": 3
      },
      "file_extension": ".py",
      "mimetype": "text/x-python",
      "name": "python",
      "nbconvert_exporter": "python",
      "pygments_lexer": "ipython3",
      "version": "3.11.4"
    }
  },
  "nbformat": 4,
  "nbformat_minor": 0
}
