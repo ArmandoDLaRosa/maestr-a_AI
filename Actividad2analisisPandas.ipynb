{
  "cells": [
    {
      "cell_type": "markdown",
      "metadata": {
        "id": "SML-04QQLd9l"
      },
      "source": [
        "**MAESTRÍA EN INTELIGENCIA ARTIFICIAL APLICADA**\n",
        "\n",
        "**Curso: TC4029 - Ciencia y analítica de datos**\n",
        "\n",
        "Tecnológico de Monterrey\n",
        "\n",
        "Prof Grettel Barceló Alonso\n",
        "\n",
        "**Semana 2**\n",
        "Pandas para el análisis de datos en Python\n",
        "\n",
        "---"
      ]
    },
    {
      "cell_type": "markdown",
      "metadata": {
        "id": "6q35__bSBB3G"
      },
      "source": [
        "*   NOMBRE: Armando Cerda De La Rosa\n",
        "*   MATRÍCULA: A01570376   "
      ]
    },
    {
      "cell_type": "markdown",
      "metadata": {
        "id": "AepY3wwtDXkc"
      },
      "source": [
        "---"
      ]
    },
    {
      "cell_type": "markdown",
      "metadata": {
        "id": "BumCtObqBqGr"
      },
      "source": [
        "En esta actividad usarás el archivo de datos `LaqnData.csv`. Cada fila de este conjunto de datos muestra un registro de medición, por hora, de uno de los siguientes cinco contaminantes del aire:\n",
        "\n",
        "*   `NO` (óxido nítrico)\n",
        "*   `NO2` (dióxido de nitrógeno)\n",
        "*   `NOX` (óxidos nitrosos)\n",
        "*   `PM10` (partículas suspendidas con un diámetro aerodinámico igual o menor a 10 micrómetros)\n",
        "*   `PM2.5` (partículas suspendidas con un diámetro aerodinámico igual o menor a 2.5 micrómetros)\n",
        "\n",
        "Los datos se recopilaron en una ubicación de Londres durante todo el año 2017.\n",
        "\n",
        "**NOTA IMPORTANTE:** Asegúrate de responder *explícitamente* todos los cuestionamientos.\n"
      ]
    },
    {
      "cell_type": "markdown",
      "metadata": {
        "id": "mqtTwAL3Mr44"
      },
      "source": [
        "1.\tDescarga el archivo: `LaqnData.csv` y guarda, en un dataframe (`air_df`), todos sus registros.\n",
        "*   Observa la estructura y contenido del dataframe con los atributos y métodos estudiados (`shape`, `columns`, `head()`, `tail()`, `dtypes`)\n",
        "*   Calcula el porcentaje de valores faltantes por columna."
      ]
    },
    {
      "cell_type": "code",
      "execution_count": 1,
      "metadata": {
        "id": "F5JognteLaJV"
      },
      "outputs": [],
      "source": [
        "import pandas as pd\n",
        "\n",
        "air_df = pd.read_csv('LaqnData.csv')"
      ]
    },
    {
      "cell_type": "code",
      "execution_count": 2,
      "metadata": {},
      "outputs": [
        {
          "data": {
            "text/html": [
              "<div>\n",
              "<style scoped>\n",
              "    .dataframe tbody tr th:only-of-type {\n",
              "        vertical-align: middle;\n",
              "    }\n",
              "\n",
              "    .dataframe tbody tr th {\n",
              "        vertical-align: top;\n",
              "    }\n",
              "\n",
              "    .dataframe thead th {\n",
              "        text-align: right;\n",
              "    }\n",
              "</style>\n",
              "<table border=\"1\" class=\"dataframe\">\n",
              "  <thead>\n",
              "    <tr style=\"text-align: right;\">\n",
              "      <th></th>\n",
              "      <th>Site</th>\n",
              "      <th>Species</th>\n",
              "      <th>ReadingDateTime</th>\n",
              "      <th>Value</th>\n",
              "      <th>Units</th>\n",
              "      <th>Provisional or Ratified</th>\n",
              "    </tr>\n",
              "  </thead>\n",
              "  <tbody>\n",
              "    <tr>\n",
              "      <th>0</th>\n",
              "      <td>CT3</td>\n",
              "      <td>NO</td>\n",
              "      <td>01/01/2017 00:00</td>\n",
              "      <td>3.5</td>\n",
              "      <td>ug m-3</td>\n",
              "      <td>R</td>\n",
              "    </tr>\n",
              "    <tr>\n",
              "      <th>1</th>\n",
              "      <td>CT3</td>\n",
              "      <td>NO</td>\n",
              "      <td>01/01/2017 01:00</td>\n",
              "      <td>3.6</td>\n",
              "      <td>ug m-3</td>\n",
              "      <td>R</td>\n",
              "    </tr>\n",
              "    <tr>\n",
              "      <th>2</th>\n",
              "      <td>CT3</td>\n",
              "      <td>NO</td>\n",
              "      <td>01/01/2017 02:00</td>\n",
              "      <td>2.2</td>\n",
              "      <td>ug m-3</td>\n",
              "      <td>R</td>\n",
              "    </tr>\n",
              "    <tr>\n",
              "      <th>3</th>\n",
              "      <td>CT3</td>\n",
              "      <td>NO</td>\n",
              "      <td>01/01/2017 03:00</td>\n",
              "      <td>2.1</td>\n",
              "      <td>ug m-3</td>\n",
              "      <td>R</td>\n",
              "    </tr>\n",
              "    <tr>\n",
              "      <th>4</th>\n",
              "      <td>CT3</td>\n",
              "      <td>NO</td>\n",
              "      <td>01/01/2017 04:00</td>\n",
              "      <td>3.3</td>\n",
              "      <td>ug m-3</td>\n",
              "      <td>R</td>\n",
              "    </tr>\n",
              "  </tbody>\n",
              "</table>\n",
              "</div>"
            ],
            "text/plain": [
              "  Site Species   ReadingDateTime  Value   Units Provisional or Ratified\n",
              "0  CT3      NO  01/01/2017 00:00    3.5  ug m-3                       R\n",
              "1  CT3      NO  01/01/2017 01:00    3.6  ug m-3                       R\n",
              "2  CT3      NO  01/01/2017 02:00    2.2  ug m-3                       R\n",
              "3  CT3      NO  01/01/2017 03:00    2.1  ug m-3                       R\n",
              "4  CT3      NO  01/01/2017 04:00    3.3  ug m-3                       R"
            ]
          },
          "execution_count": 2,
          "metadata": {},
          "output_type": "execute_result"
        }
      ],
      "source": [
        "air_df.head()"
      ]
    },
    {
      "cell_type": "code",
      "execution_count": 3,
      "metadata": {},
      "outputs": [
        {
          "data": {
            "text/html": [
              "<div>\n",
              "<style scoped>\n",
              "    .dataframe tbody tr th:only-of-type {\n",
              "        vertical-align: middle;\n",
              "    }\n",
              "\n",
              "    .dataframe tbody tr th {\n",
              "        vertical-align: top;\n",
              "    }\n",
              "\n",
              "    .dataframe thead th {\n",
              "        text-align: right;\n",
              "    }\n",
              "</style>\n",
              "<table border=\"1\" class=\"dataframe\">\n",
              "  <thead>\n",
              "    <tr style=\"text-align: right;\">\n",
              "      <th></th>\n",
              "      <th>Site</th>\n",
              "      <th>Species</th>\n",
              "      <th>ReadingDateTime</th>\n",
              "      <th>Value</th>\n",
              "      <th>Units</th>\n",
              "      <th>Provisional or Ratified</th>\n",
              "    </tr>\n",
              "  </thead>\n",
              "  <tbody>\n",
              "    <tr>\n",
              "      <th>43795</th>\n",
              "      <td>CT3</td>\n",
              "      <td>PM2.5</td>\n",
              "      <td>31/12/2017 19:00</td>\n",
              "      <td>-2.0</td>\n",
              "      <td>ug m-3</td>\n",
              "      <td>R</td>\n",
              "    </tr>\n",
              "    <tr>\n",
              "      <th>43796</th>\n",
              "      <td>CT3</td>\n",
              "      <td>PM2.5</td>\n",
              "      <td>31/12/2017 20:00</td>\n",
              "      <td>6.0</td>\n",
              "      <td>ug m-3</td>\n",
              "      <td>R</td>\n",
              "    </tr>\n",
              "    <tr>\n",
              "      <th>43797</th>\n",
              "      <td>CT3</td>\n",
              "      <td>PM2.5</td>\n",
              "      <td>31/12/2017 21:00</td>\n",
              "      <td>5.0</td>\n",
              "      <td>ug m-3</td>\n",
              "      <td>R</td>\n",
              "    </tr>\n",
              "    <tr>\n",
              "      <th>43798</th>\n",
              "      <td>CT3</td>\n",
              "      <td>PM2.5</td>\n",
              "      <td>31/12/2017 22:00</td>\n",
              "      <td>5.0</td>\n",
              "      <td>ug m-3</td>\n",
              "      <td>R</td>\n",
              "    </tr>\n",
              "    <tr>\n",
              "      <th>43799</th>\n",
              "      <td>CT3</td>\n",
              "      <td>PM2.5</td>\n",
              "      <td>31/12/2017 23:00</td>\n",
              "      <td>6.0</td>\n",
              "      <td>ug m-3</td>\n",
              "      <td>R</td>\n",
              "    </tr>\n",
              "  </tbody>\n",
              "</table>\n",
              "</div>"
            ],
            "text/plain": [
              "      Site Species   ReadingDateTime  Value   Units Provisional or Ratified\n",
              "43795  CT3   PM2.5  31/12/2017 19:00   -2.0  ug m-3                       R\n",
              "43796  CT3   PM2.5  31/12/2017 20:00    6.0  ug m-3                       R\n",
              "43797  CT3   PM2.5  31/12/2017 21:00    5.0  ug m-3                       R\n",
              "43798  CT3   PM2.5  31/12/2017 22:00    5.0  ug m-3                       R\n",
              "43799  CT3   PM2.5  31/12/2017 23:00    6.0  ug m-3                       R"
            ]
          },
          "execution_count": 3,
          "metadata": {},
          "output_type": "execute_result"
        }
      ],
      "source": [
        "air_df.tail()"
      ]
    },
    {
      "cell_type": "code",
      "execution_count": 4,
      "metadata": {},
      "outputs": [
        {
          "data": {
            "text/plain": [
              "(43800, 6)"
            ]
          },
          "execution_count": 4,
          "metadata": {},
          "output_type": "execute_result"
        }
      ],
      "source": [
        "air_df.shape"
      ]
    },
    {
      "cell_type": "code",
      "execution_count": 5,
      "metadata": {},
      "outputs": [
        {
          "data": {
            "text/plain": [
              "Index(['Site', 'Species', 'ReadingDateTime', 'Value', 'Units',\n",
              "       'Provisional or Ratified'],\n",
              "      dtype='object')"
            ]
          },
          "execution_count": 5,
          "metadata": {},
          "output_type": "execute_result"
        }
      ],
      "source": [
        "air_df.columns"
      ]
    },
    {
      "cell_type": "code",
      "execution_count": 6,
      "metadata": {},
      "outputs": [
        {
          "data": {
            "text/plain": [
              "Site                        object\n",
              "Species                     object\n",
              "ReadingDateTime             object\n",
              "Value                      float64\n",
              "Units                       object\n",
              "Provisional or Ratified     object\n",
              "dtype: object"
            ]
          },
          "execution_count": 6,
          "metadata": {},
          "output_type": "execute_result"
        }
      ],
      "source": [
        "air_df.dtypes"
      ]
    },
    {
      "cell_type": "code",
      "execution_count": 7,
      "metadata": {},
      "outputs": [
        {
          "name": "stdout",
          "output_type": "stream",
          "text": [
            "Dataframe total rows:  43800\n"
          ]
        },
        {
          "data": {
            "text/html": [
              "<div>\n",
              "<style scoped>\n",
              "    .dataframe tbody tr th:only-of-type {\n",
              "        vertical-align: middle;\n",
              "    }\n",
              "\n",
              "    .dataframe tbody tr th {\n",
              "        vertical-align: top;\n",
              "    }\n",
              "\n",
              "    .dataframe thead th {\n",
              "        text-align: right;\n",
              "    }\n",
              "</style>\n",
              "<table border=\"1\" class=\"dataframe\">\n",
              "  <thead>\n",
              "    <tr style=\"text-align: right;\">\n",
              "      <th></th>\n",
              "      <th>Data Type</th>\n",
              "      <th>Example 1</th>\n",
              "      <th>Example 2</th>\n",
              "      <th>Example 3</th>\n",
              "      <th>Total Not Missing</th>\n",
              "      <th>% of missing values</th>\n",
              "    </tr>\n",
              "  </thead>\n",
              "  <tbody>\n",
              "    <tr>\n",
              "      <th>Site</th>\n",
              "      <td>object</td>\n",
              "      <td>CT3</td>\n",
              "      <td>CT3</td>\n",
              "      <td>CT3</td>\n",
              "      <td>0</td>\n",
              "      <td>0.0 %</td>\n",
              "    </tr>\n",
              "    <tr>\n",
              "      <th>Species</th>\n",
              "      <td>object</td>\n",
              "      <td>PM10</td>\n",
              "      <td>NOX</td>\n",
              "      <td>PM10</td>\n",
              "      <td>0</td>\n",
              "      <td>0.0 %</td>\n",
              "    </tr>\n",
              "    <tr>\n",
              "      <th>ReadingDateTime</th>\n",
              "      <td>object</td>\n",
              "      <td>09/04/2017 01:00</td>\n",
              "      <td>27/04/2017 10:00</td>\n",
              "      <td>28/02/2017 19:00</td>\n",
              "      <td>0</td>\n",
              "      <td>0.0 %</td>\n",
              "    </tr>\n",
              "    <tr>\n",
              "      <th>Value</th>\n",
              "      <td>float64</td>\n",
              "      <td>66.3</td>\n",
              "      <td>89.6</td>\n",
              "      <td>23.3</td>\n",
              "      <td>3230</td>\n",
              "      <td>7.37 %</td>\n",
              "    </tr>\n",
              "    <tr>\n",
              "      <th>Units</th>\n",
              "      <td>object</td>\n",
              "      <td>ug/m3</td>\n",
              "      <td>ug m-3 as NO2</td>\n",
              "      <td>ug/m3</td>\n",
              "      <td>0</td>\n",
              "      <td>0.0 %</td>\n",
              "    </tr>\n",
              "    <tr>\n",
              "      <th>Provisional or Ratified</th>\n",
              "      <td>object</td>\n",
              "      <td>R</td>\n",
              "      <td>R</td>\n",
              "      <td>R</td>\n",
              "      <td>0</td>\n",
              "      <td>0.0 %</td>\n",
              "    </tr>\n",
              "  </tbody>\n",
              "</table>\n",
              "</div>"
            ],
            "text/plain": [
              "                        Data Type         Example 1         Example 2  \\\n",
              "Site                       object               CT3               CT3   \n",
              "Species                    object              PM10               NOX   \n",
              "ReadingDateTime            object  09/04/2017 01:00  27/04/2017 10:00   \n",
              "Value                     float64              66.3              89.6   \n",
              "Units                      object             ug/m3     ug m-3 as NO2   \n",
              "Provisional or Ratified    object                 R                 R   \n",
              "\n",
              "                                Example 3  Total Not Missing  \\\n",
              "Site                                  CT3                  0   \n",
              "Species                              PM10                  0   \n",
              "ReadingDateTime          28/02/2017 19:00                  0   \n",
              "Value                                23.3               3230   \n",
              "Units                               ug/m3                  0   \n",
              "Provisional or Ratified                 R                  0   \n",
              "\n",
              "                        % of missing values  \n",
              "Site                                  0.0 %  \n",
              "Species                               0.0 %  \n",
              "ReadingDateTime                       0.0 %  \n",
              "Value                                7.37 %  \n",
              "Units                                 0.0 %  \n",
              "Provisional or Ratified               0.0 %  "
            ]
          },
          "execution_count": 7,
          "metadata": {},
          "output_type": "execute_result"
        }
      ],
      "source": [
        "import random\n",
        "ex1, ex2, ex3 = random.sample(range(len(air_df)), 3)\n",
        "\n",
        "print(\"Dataframe total rows: \", len(air_df))\n",
        "df_info = pd.DataFrame(data = air_df.dtypes)\n",
        "missing_values_total = air_df.isnull().sum()\n",
        "missing_values_percent = round(missing_values_total/len(air_df)*100,2).astype(str)+\" %\"\n",
        "\n",
        "pd.concat([df_info[0].rename(\"Data Type\"),\\\n",
        "           air_df.T[ex1].rename(\"Example 1\"),\\\n",
        "           air_df.T[ex2].rename(\"Example 2\"),\\\n",
        "           air_df.T[ex3].rename(\"Example 3\"),\\\n",
        "           missing_values_total.rename(\"Total Not Missing\"), \\\n",
        "           missing_values_percent.rename(\"% of missing values\")], axis=1)"
      ]
    },
    {
      "cell_type": "markdown",
      "metadata": {
        "id": "APrlS185Cw-K"
      },
      "source": [
        "2.\tObtén la cantidad de valores únicos por columna (`nunique()`) para responder:\n",
        "\n",
        "\n",
        "*   ¿Cuántas mediciones se hicieron?\n",
        "*   ¿Cuántos contaminantes del aire (`Species`) se analizaron?\n",
        "*   ¿Qué columnas no agregan ningún valor informativo porque el mismo valor en todo el conjunto de datos? Elimínalas del dataframe.\n",
        "*   La columna `Units` tampoco posee valor informativo. Verifícalo con la función `unique()` y elimínala del dataframe."
      ]
    },
    {
      "cell_type": "code",
      "execution_count": 8,
      "metadata": {
        "id": "Ke0EGLVaCwm6"
      },
      "outputs": [
        {
          "name": "stdout",
          "output_type": "stream",
          "text": [
            "Cantidad de mediciones: 8760\n",
            "Número de contaminantes analizados: 5\n",
            "Columnas no informativas: ['Site', 'Provisional or Ratified']\n"
          ]
        }
      ],
      "source": [
        "# Cuántas mediciones se hicieron?\n",
        "print(f\"Cantidad de mediciones: {air_df['ReadingDateTime'].nunique()}\")\n",
        "\n",
        "# Cuántos contaminantes del aire (`Species`) se analizaron?\n",
        "print(f\"Número de contaminantes analizados: {air_df['Species'].nunique()}\")\n",
        "\n",
        "# Qué columnas no agregan ningún valor informativo? las de un conteo único de 1.\n",
        "valores_unicos_por_columna = air_df.nunique()\n",
        "columnas_a_borrar = valores_unicos_por_columna[valores_unicos_por_columna == 1].index.tolist()\n",
        "print(f\"Columnas no informativas: {columnas_a_borrar}\")\n",
        "\n",
        "# Eliminar esas columnas del dataframe\n",
        "air_df = air_df.drop(columns=columnas_a_borrar)"
      ]
    },
    {
      "cell_type": "code",
      "execution_count": 9,
      "metadata": {},
      "outputs": [
        {
          "name": "stdout",
          "output_type": "stream",
          "text": [
            "Valores únicos en la columna 'Units': ['ug m-3' 'ug m-3 as NO2' 'ug/m3']\n",
            "  Species   ReadingDateTime  Value\n",
            "0      NO  01/01/2017 00:00    3.5\n",
            "1      NO  01/01/2017 01:00    3.6\n",
            "2      NO  01/01/2017 02:00    2.2\n",
            "3      NO  01/01/2017 03:00    2.1\n",
            "4      NO  01/01/2017 04:00    3.3\n"
          ]
        }
      ],
      "source": [
        "# La columna `Units` tampoco tiene valor informativo.\n",
        "# las unidades son las mismas\n",
        "unidades_unicas = air_df['Units'].unique()\n",
        "print(f\"Valores únicos en la columna 'Units': {unidades_unicas}\")\n",
        "\n",
        "air_df = air_df.drop(columns='Units')\n",
        "\n",
        "print(air_df.head())"
      ]
    },
    {
      "cell_type": "markdown",
      "metadata": {
        "id": "zEddCwHWEJZ7"
      },
      "source": [
        "3.\tRealiza el conteo de valores por categoría (`value_counts()`) para la columna `Species` y determina si las lecturas de cada contaminante coincide con el total de mediciones."
      ]
    },
    {
      "cell_type": "code",
      "execution_count": 10,
      "metadata": {
        "id": "inCKasmZEPsv"
      },
      "outputs": [
        {
          "data": {
            "text/plain": [
              "Species\n",
              "NO       8760\n",
              "NO2      8760\n",
              "NOX      8760\n",
              "PM10     8760\n",
              "PM2.5    8760\n",
              "Name: count, dtype: int64"
            ]
          },
          "execution_count": 10,
          "metadata": {},
          "output_type": "execute_result"
        }
      ],
      "source": [
        "air_df[\"Species\"].value_counts()\n",
        "# Sí coincice con el total de mediciones"
      ]
    },
    {
      "cell_type": "markdown",
      "metadata": {
        "id": "zhJM6l1vETfI"
      },
      "source": [
        "4.\tUtiliza la función `groupby()` para determinar el promedio del valor por contaminante."
      ]
    },
    {
      "cell_type": "code",
      "execution_count": 11,
      "metadata": {
        "id": "zstyHahSETJK"
      },
      "outputs": [
        {
          "data": {
            "text/html": [
              "<div>\n",
              "<style scoped>\n",
              "    .dataframe tbody tr th:only-of-type {\n",
              "        vertical-align: middle;\n",
              "    }\n",
              "\n",
              "    .dataframe tbody tr th {\n",
              "        vertical-align: top;\n",
              "    }\n",
              "\n",
              "    .dataframe thead th {\n",
              "        text-align: right;\n",
              "    }\n",
              "</style>\n",
              "<table border=\"1\" class=\"dataframe\">\n",
              "  <thead>\n",
              "    <tr style=\"text-align: right;\">\n",
              "      <th></th>\n",
              "      <th>Value</th>\n",
              "    </tr>\n",
              "    <tr>\n",
              "      <th>Species</th>\n",
              "      <th></th>\n",
              "    </tr>\n",
              "  </thead>\n",
              "  <tbody>\n",
              "    <tr>\n",
              "      <th>NO</th>\n",
              "      <td>15.045115</td>\n",
              "    </tr>\n",
              "    <tr>\n",
              "      <th>NO2</th>\n",
              "      <td>38.010185</td>\n",
              "    </tr>\n",
              "    <tr>\n",
              "      <th>NOX</th>\n",
              "      <td>61.078661</td>\n",
              "    </tr>\n",
              "    <tr>\n",
              "      <th>PM10</th>\n",
              "      <td>22.551704</td>\n",
              "    </tr>\n",
              "    <tr>\n",
              "      <th>PM2.5</th>\n",
              "      <td>14.999831</td>\n",
              "    </tr>\n",
              "  </tbody>\n",
              "</table>\n",
              "</div>"
            ],
            "text/plain": [
              "             Value\n",
              "Species           \n",
              "NO       15.045115\n",
              "NO2      38.010185\n",
              "NOX      61.078661\n",
              "PM10     22.551704\n",
              "PM2.5    14.999831"
            ]
          },
          "execution_count": 11,
          "metadata": {},
          "output_type": "execute_result"
        }
      ],
      "source": [
        "air_df.groupby(\"Species\").mean(\"Value\")"
      ]
    },
    {
      "cell_type": "markdown",
      "metadata": {
        "id": "GY2ux-Q_EV7J"
      },
      "source": [
        "5.\tEl conjunto de datos está en un formato largo. Aplique la función apropiada para cambiarlo al formato ancho (`ReadingDateTime` como índice y cada contaminante en una columna). Nombre el dataframe resultante como `pvt_df`."
      ]
    },
    {
      "cell_type": "code",
      "execution_count": 12,
      "metadata": {
        "id": "1IETxb9vFIF-"
      },
      "outputs": [
        {
          "data": {
            "text/html": [
              "<div>\n",
              "<style scoped>\n",
              "    .dataframe tbody tr th:only-of-type {\n",
              "        vertical-align: middle;\n",
              "    }\n",
              "\n",
              "    .dataframe tbody tr th {\n",
              "        vertical-align: top;\n",
              "    }\n",
              "\n",
              "    .dataframe thead th {\n",
              "        text-align: right;\n",
              "    }\n",
              "</style>\n",
              "<table border=\"1\" class=\"dataframe\">\n",
              "  <thead>\n",
              "    <tr style=\"text-align: right;\">\n",
              "      <th>Species</th>\n",
              "      <th>NO</th>\n",
              "      <th>NO2</th>\n",
              "      <th>NOX</th>\n",
              "      <th>PM10</th>\n",
              "      <th>PM2.5</th>\n",
              "    </tr>\n",
              "    <tr>\n",
              "      <th>ReadingDateTime</th>\n",
              "      <th></th>\n",
              "      <th></th>\n",
              "      <th></th>\n",
              "      <th></th>\n",
              "      <th></th>\n",
              "    </tr>\n",
              "  </thead>\n",
              "  <tbody>\n",
              "    <tr>\n",
              "      <th>01/01/2017 00:00</th>\n",
              "      <td>3.5</td>\n",
              "      <td>30.8</td>\n",
              "      <td>36.2</td>\n",
              "      <td>35.7</td>\n",
              "      <td>NaN</td>\n",
              "    </tr>\n",
              "    <tr>\n",
              "      <th>01/01/2017 01:00</th>\n",
              "      <td>3.6</td>\n",
              "      <td>31.5</td>\n",
              "      <td>37.0</td>\n",
              "      <td>28.5</td>\n",
              "      <td>NaN</td>\n",
              "    </tr>\n",
              "    <tr>\n",
              "      <th>01/01/2017 02:00</th>\n",
              "      <td>2.2</td>\n",
              "      <td>27.3</td>\n",
              "      <td>30.7</td>\n",
              "      <td>22.7</td>\n",
              "      <td>NaN</td>\n",
              "    </tr>\n",
              "    <tr>\n",
              "      <th>01/01/2017 03:00</th>\n",
              "      <td>2.1</td>\n",
              "      <td>23.5</td>\n",
              "      <td>26.8</td>\n",
              "      <td>20.5</td>\n",
              "      <td>NaN</td>\n",
              "    </tr>\n",
              "    <tr>\n",
              "      <th>01/01/2017 04:00</th>\n",
              "      <td>3.3</td>\n",
              "      <td>28.0</td>\n",
              "      <td>33.0</td>\n",
              "      <td>22.1</td>\n",
              "      <td>NaN</td>\n",
              "    </tr>\n",
              "    <tr>\n",
              "      <th>...</th>\n",
              "      <td>...</td>\n",
              "      <td>...</td>\n",
              "      <td>...</td>\n",
              "      <td>...</td>\n",
              "      <td>...</td>\n",
              "    </tr>\n",
              "    <tr>\n",
              "      <th>31/12/2017 19:00</th>\n",
              "      <td>0.7</td>\n",
              "      <td>17.5</td>\n",
              "      <td>18.5</td>\n",
              "      <td>16.3</td>\n",
              "      <td>-2.0</td>\n",
              "    </tr>\n",
              "    <tr>\n",
              "      <th>31/12/2017 20:00</th>\n",
              "      <td>0.7</td>\n",
              "      <td>17.5</td>\n",
              "      <td>18.6</td>\n",
              "      <td>14.5</td>\n",
              "      <td>6.0</td>\n",
              "    </tr>\n",
              "    <tr>\n",
              "      <th>31/12/2017 21:00</th>\n",
              "      <td>0.7</td>\n",
              "      <td>14.1</td>\n",
              "      <td>15.1</td>\n",
              "      <td>8.6</td>\n",
              "      <td>5.0</td>\n",
              "    </tr>\n",
              "    <tr>\n",
              "      <th>31/12/2017 22:00</th>\n",
              "      <td>1.1</td>\n",
              "      <td>22.0</td>\n",
              "      <td>23.6</td>\n",
              "      <td>12.5</td>\n",
              "      <td>5.0</td>\n",
              "    </tr>\n",
              "    <tr>\n",
              "      <th>31/12/2017 23:00</th>\n",
              "      <td>0.9</td>\n",
              "      <td>19.4</td>\n",
              "      <td>20.7</td>\n",
              "      <td>10.4</td>\n",
              "      <td>6.0</td>\n",
              "    </tr>\n",
              "  </tbody>\n",
              "</table>\n",
              "<p>8760 rows × 5 columns</p>\n",
              "</div>"
            ],
            "text/plain": [
              "Species            NO   NO2   NOX  PM10  PM2.5\n",
              "ReadingDateTime                               \n",
              "01/01/2017 00:00  3.5  30.8  36.2  35.7    NaN\n",
              "01/01/2017 01:00  3.6  31.5  37.0  28.5    NaN\n",
              "01/01/2017 02:00  2.2  27.3  30.7  22.7    NaN\n",
              "01/01/2017 03:00  2.1  23.5  26.8  20.5    NaN\n",
              "01/01/2017 04:00  3.3  28.0  33.0  22.1    NaN\n",
              "...               ...   ...   ...   ...    ...\n",
              "31/12/2017 19:00  0.7  17.5  18.5  16.3   -2.0\n",
              "31/12/2017 20:00  0.7  17.5  18.6  14.5    6.0\n",
              "31/12/2017 21:00  0.7  14.1  15.1   8.6    5.0\n",
              "31/12/2017 22:00  1.1  22.0  23.6  12.5    5.0\n",
              "31/12/2017 23:00  0.9  19.4  20.7  10.4    6.0\n",
              "\n",
              "[8760 rows x 5 columns]"
            ]
          },
          "execution_count": 12,
          "metadata": {},
          "output_type": "execute_result"
        }
      ],
      "source": [
        "pvt_df = air_df.pivot(index='ReadingDateTime', columns='Species', values='Value')\n",
        "pvt_df"
      ]
    },
    {
      "cell_type": "markdown",
      "metadata": {
        "id": "JmbiBXqFFIZx"
      },
      "source": [
        "6.\tA través de la función `describe()` responde:\n",
        "\n",
        "*   ¿Cuál es el mayor valor de `NO2` registrado? ¿A qué día pertenece?\n",
        "*   ¿Cuál es el menor valor de `PM10` registrado?¿A qué día pertenece?\n",
        "*   ¿Cuál es la mediana del `NO`? ¿Cómo se interpreta?\n",
        "*   ¿Cuál es el primer cuartil de `PM2.5`? ¿Qué significa?"
      ]
    },
    {
      "cell_type": "code",
      "execution_count": 13,
      "metadata": {},
      "outputs": [
        {
          "data": {
            "text/html": [
              "<div>\n",
              "<style scoped>\n",
              "    .dataframe tbody tr th:only-of-type {\n",
              "        vertical-align: middle;\n",
              "    }\n",
              "\n",
              "    .dataframe tbody tr th {\n",
              "        vertical-align: top;\n",
              "    }\n",
              "\n",
              "    .dataframe thead th {\n",
              "        text-align: right;\n",
              "    }\n",
              "</style>\n",
              "<table border=\"1\" class=\"dataframe\">\n",
              "  <thead>\n",
              "    <tr style=\"text-align: right;\">\n",
              "      <th>Species</th>\n",
              "      <th>NO</th>\n",
              "      <th>NO2</th>\n",
              "      <th>NOX</th>\n",
              "      <th>PM10</th>\n",
              "      <th>PM2.5</th>\n",
              "    </tr>\n",
              "  </thead>\n",
              "  <tbody>\n",
              "    <tr>\n",
              "      <th>count</th>\n",
              "      <td>8660.000000</td>\n",
              "      <td>8660.000000</td>\n",
              "      <td>8660.000000</td>\n",
              "      <td>8657.000000</td>\n",
              "      <td>5933.000000</td>\n",
              "    </tr>\n",
              "    <tr>\n",
              "      <th>mean</th>\n",
              "      <td>15.045115</td>\n",
              "      <td>38.010185</td>\n",
              "      <td>61.078661</td>\n",
              "      <td>22.551704</td>\n",
              "      <td>14.999831</td>\n",
              "    </tr>\n",
              "    <tr>\n",
              "      <th>std</th>\n",
              "      <td>26.678565</td>\n",
              "      <td>18.580841</td>\n",
              "      <td>54.584805</td>\n",
              "      <td>15.344755</td>\n",
              "      <td>13.558588</td>\n",
              "    </tr>\n",
              "    <tr>\n",
              "      <th>min</th>\n",
              "      <td>-2.000000</td>\n",
              "      <td>2.800000</td>\n",
              "      <td>1.000000</td>\n",
              "      <td>-5.600000</td>\n",
              "      <td>-8.000000</td>\n",
              "    </tr>\n",
              "    <tr>\n",
              "      <th>25%</th>\n",
              "      <td>3.100000</td>\n",
              "      <td>23.800000</td>\n",
              "      <td>30.300000</td>\n",
              "      <td>13.900000</td>\n",
              "      <td>7.000000</td>\n",
              "    </tr>\n",
              "    <tr>\n",
              "      <th>50%</th>\n",
              "      <td>7.100000</td>\n",
              "      <td>35.300000</td>\n",
              "      <td>46.900000</td>\n",
              "      <td>19.500000</td>\n",
              "      <td>11.000000</td>\n",
              "    </tr>\n",
              "    <tr>\n",
              "      <th>75%</th>\n",
              "      <td>15.500000</td>\n",
              "      <td>49.900000</td>\n",
              "      <td>73.800000</td>\n",
              "      <td>27.300000</td>\n",
              "      <td>18.000000</td>\n",
              "    </tr>\n",
              "    <tr>\n",
              "      <th>max</th>\n",
              "      <td>401.799990</td>\n",
              "      <td>120.200000</td>\n",
              "      <td>734.299990</td>\n",
              "      <td>633.099980</td>\n",
              "      <td>128.000000</td>\n",
              "    </tr>\n",
              "  </tbody>\n",
              "</table>\n",
              "</div>"
            ],
            "text/plain": [
              "Species           NO          NO2          NOX         PM10        PM2.5\n",
              "count    8660.000000  8660.000000  8660.000000  8657.000000  5933.000000\n",
              "mean       15.045115    38.010185    61.078661    22.551704    14.999831\n",
              "std        26.678565    18.580841    54.584805    15.344755    13.558588\n",
              "min        -2.000000     2.800000     1.000000    -5.600000    -8.000000\n",
              "25%         3.100000    23.800000    30.300000    13.900000     7.000000\n",
              "50%         7.100000    35.300000    46.900000    19.500000    11.000000\n",
              "75%        15.500000    49.900000    73.800000    27.300000    18.000000\n",
              "max       401.799990   120.200000   734.299990   633.099980   128.000000"
            ]
          },
          "execution_count": 13,
          "metadata": {},
          "output_type": "execute_result"
        }
      ],
      "source": [
        "desc = pvt_df.describe()\n",
        "desc"
      ]
    },
    {
      "cell_type": "code",
      "execution_count": 14,
      "metadata": {
        "id": "_qWYoEx3Fbod"
      },
      "outputs": [
        {
          "name": "stdout",
          "output_type": "stream",
          "text": [
            "El mayor valor de NO2 registrado es 120.2 el 24/01/2017 19:00\n"
          ]
        }
      ],
      "source": [
        "# Cuál es el mayor valor de `NO2` registrado? ¿A qué día pertenece?\n",
        "max_no2 = desc.loc['max', 'NO2']\n",
        "print(f\"El mayor valor de NO2 registrado es {max_no2} el {pvt_df[pvt_df['NO2'] == max_no2].index[0]}\")"
      ]
    },
    {
      "cell_type": "code",
      "execution_count": 15,
      "metadata": {},
      "outputs": [
        {
          "name": "stdout",
          "output_type": "stream",
          "text": [
            "El menor valor de PM10 registrado es -5.6 y pertenece al día 12/09/2017 23:00\n"
          ]
        }
      ],
      "source": [
        "# Cuál es el menor valor de `PM10` registrado? ¿A qué día pertenece?\n",
        "min_pm10 = desc.loc['min', 'PM10']\n",
        "print(f\"El menor valor de PM10 registrado es {min_pm10} y pertenece al día {pvt_df[pvt_df['PM10'] == min_pm10].index[0]}\")"
      ]
    },
    {
      "cell_type": "code",
      "execution_count": 16,
      "metadata": {},
      "outputs": [
        {
          "name": "stdout",
          "output_type": "stream",
          "text": [
            "La mediana de NO es 7.1.\n",
            "          Interpretación: \n",
            "          50% de las mediciones son inferiores  a 7.1 y el 50% restante son superiores a 7.1.\n"
          ]
        }
      ],
      "source": [
        "# Cuál es la mediana del `NO`? ¿Cómo se interpreta?\n",
        "median_no = desc.loc['50%', 'NO']\n",
        "print(f\"\"\"La mediana de NO es {median_no}.\n",
        "          Interpretación: \n",
        "          50% de las mediciones son inferiores  a {median_no} y el 50% restante son superiores a {median_no}.\"\"\")"
      ]
    },
    {
      "cell_type": "code",
      "execution_count": 17,
      "metadata": {},
      "outputs": [
        {
          "name": "stdout",
          "output_type": "stream",
          "text": [
            "El primer cuartil de PM2.5 es 7.0.\n",
            "          Interpretación: \n",
            "          7.0 es el valor por debajo del cual se encuentra el 25% de los datos.\n",
            "          \n"
          ]
        }
      ],
      "source": [
        "# Cuál es el primer cuartil de `PM2.5`? ¿Qué significa?\n",
        "q1_pm25 = desc.loc['25%', 'PM2.5']\n",
        "print(f\"\"\"El primer cuartil de PM2.5 es {q1_pm25}.\n",
        "          Interpretación: \n",
        "          {q1_pm25} es el valor por debajo del cual se encuentra el 25% de los datos.\n",
        "          \"\"\")\n",
        "\n"
      ]
    },
    {
      "cell_type": "markdown",
      "metadata": {
        "id": "Rki16hYaFd9p"
      },
      "source": [
        "7.\tDibuja un histograma para cada columna de `pvt_df`. ¿Qué contaminante tiene mayor variabilidad?"
      ]
    },
    {
      "cell_type": "code",
      "execution_count": 18,
      "metadata": {
        "id": "NaGkunSeFfn8"
      },
      "outputs": [
        {
          "data": {
            "image/png": "[encoded data removed]",
            "text/plain": [
              "<Figure size 1000x600 with 1 Axes>"
            ]
          },
          "metadata": {},
          "output_type": "display_data"
        },
        {
          "data": {
            "image/png": "[encoded data removed]",
            "text/plain": [
              "<Figure size 1000x600 with 1 Axes>"
            ]
          },
          "metadata": {},
          "output_type": "display_data"
        },
        {
          "data": {
            "image/png": "[encoded data removed]",
            "text/plain": [
              "<Figure size 1000x600 with 1 Axes>"
            ]
          },
          "metadata": {},
          "output_type": "display_data"
        },
        {
          "data": {
            "image/png": "[encoded data removed]",
            "text/plain": [
              "<Figure size 1000x600 with 1 Axes>"
            ]
          },
          "metadata": {},
          "output_type": "display_data"
        },
        {
          "data": {
            "image/png": "[encoded data removed]",
            "text/plain": [
              "<Figure size 1000x600 with 1 Axes>"
            ]
          },
          "metadata": {},
          "output_type": "display_data"
        }
      ],
      "source": [
        "import matplotlib.pyplot as plt\n",
        "\n",
        "for col in pvt_df.columns:\n",
        "    plt.figure(figsize=(10, 6))\n",
        "    plt.hist(pvt_df[col].dropna(), bins=30, alpha=0.7) \n",
        "    plt.title(f'Histograma de {col}')\n",
        "    plt.xlabel(col)\n",
        "    plt.ylabel('Frecuencia')\n",
        "    plt.grid(True)\n",
        "    plt.show()"
      ]
    },
    {
      "cell_type": "code",
      "execution_count": 19,
      "metadata": {},
      "outputs": [
        {
          "name": "stdout",
          "output_type": "stream",
          "text": [
            "El contaminante con  mayor variabilidad es NOX con una dev std de 54.584805082983586\n"
          ]
        }
      ],
      "source": [
        "std = pvt_df.std()\n",
        "contaminant = std.idxmax()\n",
        "\n",
        "print(f\"El contaminante con  mayor variabilidad es {contaminant} con una dev std de {std[contaminant]}\")"
      ]
    },
    {
      "cell_type": "markdown",
      "metadata": {
        "id": "2hJ4LzP3fgvy"
      },
      "source": [
        "8.\tEjecuta el siguiente código y comenta qué hace cada línea:"
      ]
    },
    {
      "cell_type": "code",
      "execution_count": 20,
      "metadata": {
        "id": "goQuWzNVfomA"
      },
      "outputs": [
        {
          "data": {
            "text/html": [
              "<div>\n",
              "<style scoped>\n",
              "    .dataframe tbody tr th:only-of-type {\n",
              "        vertical-align: middle;\n",
              "    }\n",
              "\n",
              "    .dataframe tbody tr th {\n",
              "        vertical-align: top;\n",
              "    }\n",
              "\n",
              "    .dataframe thead th {\n",
              "        text-align: right;\n",
              "    }\n",
              "</style>\n",
              "<table border=\"1\" class=\"dataframe\">\n",
              "  <thead>\n",
              "    <tr style=\"text-align: right;\">\n",
              "      <th></th>\n",
              "      <th></th>\n",
              "      <th></th>\n",
              "      <th></th>\n",
              "      <th>Value</th>\n",
              "    </tr>\n",
              "    <tr>\n",
              "      <th>Month</th>\n",
              "      <th>Day</th>\n",
              "      <th>Time</th>\n",
              "      <th>Species</th>\n",
              "      <th></th>\n",
              "    </tr>\n",
              "  </thead>\n",
              "  <tbody>\n",
              "    <tr>\n",
              "      <th rowspan=\"5\" valign=\"top\">01</th>\n",
              "      <th rowspan=\"5\" valign=\"top\">01</th>\n",
              "      <th>00:00</th>\n",
              "      <th>NO</th>\n",
              "      <td>3.5</td>\n",
              "    </tr>\n",
              "    <tr>\n",
              "      <th>01:00</th>\n",
              "      <th>NO</th>\n",
              "      <td>3.6</td>\n",
              "    </tr>\n",
              "    <tr>\n",
              "      <th>02:00</th>\n",
              "      <th>NO</th>\n",
              "      <td>2.2</td>\n",
              "    </tr>\n",
              "    <tr>\n",
              "      <th>03:00</th>\n",
              "      <th>NO</th>\n",
              "      <td>2.1</td>\n",
              "    </tr>\n",
              "    <tr>\n",
              "      <th>04:00</th>\n",
              "      <th>NO</th>\n",
              "      <td>3.3</td>\n",
              "    </tr>\n",
              "    <tr>\n",
              "      <th>...</th>\n",
              "      <th>...</th>\n",
              "      <th>...</th>\n",
              "      <th>...</th>\n",
              "      <td>...</td>\n",
              "    </tr>\n",
              "    <tr>\n",
              "      <th rowspan=\"5\" valign=\"top\">12</th>\n",
              "      <th rowspan=\"5\" valign=\"top\">31</th>\n",
              "      <th>19:00</th>\n",
              "      <th>PM2.5</th>\n",
              "      <td>-2.0</td>\n",
              "    </tr>\n",
              "    <tr>\n",
              "      <th>20:00</th>\n",
              "      <th>PM2.5</th>\n",
              "      <td>6.0</td>\n",
              "    </tr>\n",
              "    <tr>\n",
              "      <th>21:00</th>\n",
              "      <th>PM2.5</th>\n",
              "      <td>5.0</td>\n",
              "    </tr>\n",
              "    <tr>\n",
              "      <th>22:00</th>\n",
              "      <th>PM2.5</th>\n",
              "      <td>5.0</td>\n",
              "    </tr>\n",
              "    <tr>\n",
              "      <th>23:00</th>\n",
              "      <th>PM2.5</th>\n",
              "      <td>6.0</td>\n",
              "    </tr>\n",
              "  </tbody>\n",
              "</table>\n",
              "<p>43800 rows × 1 columns</p>\n",
              "</div>"
            ],
            "text/plain": [
              "                         Value\n",
              "Month Day Time  Species       \n",
              "01    01  00:00 NO         3.5\n",
              "          01:00 NO         3.6\n",
              "          02:00 NO         2.2\n",
              "          03:00 NO         2.1\n",
              "          04:00 NO         3.3\n",
              "...                        ...\n",
              "12    31  19:00 PM2.5     -2.0\n",
              "          20:00 PM2.5      6.0\n",
              "          21:00 PM2.5      5.0\n",
              "          22:00 PM2.5      5.0\n",
              "          23:00 PM2.5      6.0\n",
              "\n",
              "[43800 rows x 1 columns]"
            ]
          },
          "execution_count": 20,
          "metadata": {},
          "output_type": "execute_result"
        }
      ],
      "source": [
        "datetime_df = air_df.ReadingDateTime.str.split(' ',expand=True) # SPLTIS THE DATETIME COLUMN INTO TWO COLUMNS (DATE AND TIME)\n",
        "datetime_df.columns = ['Date','Time'] # RENAMES THE COLUMNS\n",
        "date_df = datetime_df.Date.str.split('/',expand=True) # SPLITS THE DATE COLUMN INTO THREE COLUMNS (DAY, MONTH, YEAR)\n",
        "date_df.columns = ['Day','Month','Year']  # RENAMES THE COLUMNS\n",
        "\n",
        "air_df = air_df.join(date_df).join(datetime_df.Time).drop(columns=['ReadingDateTime','Year']) # JOINS THE NEW COLUMNS TO THE DATAFRAME AND DROPS THE ORIGINAL COLUMN\n",
        "air_df = air_df.set_index(['Month','Day','Time','Species']) # SETS THE INDEX TO THE NEW COLUMNS\n",
        "air_df"
      ]
    },
    {
      "cell_type": "markdown",
      "metadata": {
        "id": "37E3dol8fpik"
      },
      "source": [
        "9. Ejecuta la siguiente instrucción y compara su salida con la del código anterior (ejercicio 8). ¿Son iguales?"
      ]
    },
    {
      "cell_type": "code",
      "execution_count": 21,
      "metadata": {
        "id": "cgbAxJrvfweW"
      },
      "outputs": [
        {
          "name": "stdout",
          "output_type": "stream",
          "text": [
            "No son iguales una está pivoteada y la otra no, la anterior tiene una fila de Species y la otra tiene columnas apra cada especie, volviendolo más legible. La información es la misma.\n"
          ]
        }
      ],
      "source": [
        "air_df.unstack()\n",
        "\n",
        "print(\"No son iguales una está pivoteada y la otra no, la anterior tiene una fila de Species y la otra tiene columnas apra cada especie, volviendolo más legible. La información es la misma.\")"
      ]
    },
    {
      "cell_type": "markdown",
      "metadata": {
        "id": "K1vWLX2ffxHV"
      },
      "source": [
        "10.\tExplica cuáles son las diferencias y similitudes entre el par `melt()/pivot()` y el par `stack()/unstack()`. Si tuvieras que elegir una contraparte para `melt()` entre `stack()/unstack()`, ¿cuál elegirías? ¿Por qué?"
      ]
    },
    {
      "cell_type": "code",
      "execution_count": 22,
      "metadata": {},
      "outputs": [],
      "source": [
        "# Melt y Pivot funcionan en el dataframe cambiando entre formato largo y ancho, mientras que stack y unstack  funcionan en series y dataframes con multiples indices.\n",
        "# Melt convierte un df de ancho a largo. Un Pivot convierte un df de largo a ancho.\n",
        "# Stack apila las columnas de un DF moviendolas al indice y Unstack desapila los indices a columnas.\n",
        "\n",
        "# La contra parte de melt sería stack  y la de pivot sería unstack.."
      ]
    }
  ],
  "metadata": {
    "colab": {
      "provenance": []
    },
    "kernelspec": {
      "display_name": "Python 3",
      "name": "python3"
    },
    "language_info": {
      "codemirror_mode": {
        "name": "ipython",
        "version": 3
      },
      "file_extension": ".py",
      "mimetype": "text/x-python",
      "name": "python",
      "nbconvert_exporter": "python",
      "pygments_lexer": "ipython3",
      "version": "3.11.6"
    }
  },
  "nbformat": 4,
  "nbformat_minor": 0
}
